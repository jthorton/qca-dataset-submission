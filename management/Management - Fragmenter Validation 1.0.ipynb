{
 "cells": [
  {
   "cell_type": "markdown",
   "metadata": {},
   "source": [
    "# Management - Fragmenter Validation 1.0"
   ]
  },
  {
   "cell_type": "code",
   "execution_count": 1,
   "metadata": {},
   "outputs": [],
   "source": [
    "import qcportal as ptl\n",
    "import pandas as pd\n",
    "import datetime\n",
    "import time"
   ]
  },
  {
   "cell_type": "code",
   "execution_count": 1,
   "metadata": {},
   "outputs": [],
   "source": [
    "# connect without auth\n",
    "# read only\n",
    "client = ptl.FractalClient()"
   ]
  },
  {
   "cell_type": "code",
   "execution_count": 2,
   "metadata": {},
   "outputs": [],
   "source": [
    "# connect with authentication, therefore write access\n",
    "# don't use unless you plan to submit things\n",
    "client = ptl.FractalClient.from_file()"
   ]
  },
  {
   "cell_type": "code",
   "execution_count": 3,
   "metadata": {},
   "outputs": [
    {
     "data": {
      "text/html": [
       "\n",
       "<h3>FractalClient</h3>\n",
       "<ul>\n",
       "  <li><b>Server:   &nbsp; </b>The MolSSI QCArchive Server</li>\n",
       "  <li><b>Address:  &nbsp; </b>https://api.qcarchive.molssi.org:443/</li>\n",
       "  <li><b>Username: &nbsp; </b>ddotson</li>\n",
       "</ul>\n"
      ],
      "text/plain": [
       "FractalClient(server_name='The MolSSI QCArchive Server', address='https://api.qcarchive.molssi.org:443/', username='ddotson')"
      ]
     },
     "execution_count": 3,
     "metadata": {},
     "output_type": "execute_result"
    }
   ],
   "source": [
    "client"
   ]
  },
  {
   "cell_type": "markdown",
   "metadata": {},
   "source": [
    "## Dataset tracking"
   ]
  },
  {
   "cell_type": "code",
   "execution_count": 6,
   "metadata": {},
   "outputs": [],
   "source": [
    "ds = client.get_collection(\"TorsionDriveDataset\", \"OpenFF Fragmenter Validation 1.0\")"
   ]
  },
  {
   "cell_type": "code",
   "execution_count": 7,
   "metadata": {},
   "outputs": [
    {
     "data": {
      "text/html": [
       "<div>\n",
       "<style scoped>\n",
       "    .dataframe tbody tr th:only-of-type {\n",
       "        vertical-align: middle;\n",
       "    }\n",
       "\n",
       "    .dataframe tbody tr th {\n",
       "        vertical-align: top;\n",
       "    }\n",
       "\n",
       "    .dataframe thead th {\n",
       "        text-align: right;\n",
       "    }\n",
       "</style>\n",
       "<table border=\"1\" class=\"dataframe\">\n",
       "  <thead>\n",
       "    <tr style=\"text-align: right;\">\n",
       "      <th></th>\n",
       "      <th>Description</th>\n",
       "    </tr>\n",
       "    <tr>\n",
       "      <th>Name</th>\n",
       "      <th></th>\n",
       "    </tr>\n",
       "  </thead>\n",
       "  <tbody>\n",
       "    <tr>\n",
       "      <th>default</th>\n",
       "      <td>Standard OpenFF torsiondrive specification.</td>\n",
       "    </tr>\n",
       "    <tr>\n",
       "      <th>B3LYP-d3bj/aug-cc-pvdz</th>\n",
       "      <td>OpenFF model B3LYP-d3bj/aug-cc-pvdz TorsionDri...</td>\n",
       "    </tr>\n",
       "    <tr>\n",
       "      <th>B3LYP-d3bj/aug-cc-pvtz</th>\n",
       "      <td>OpenFF model B3LYP-d3bj/aug-cc-pvtz TorsionDri...</td>\n",
       "    </tr>\n",
       "    <tr>\n",
       "      <th>B3LYP-d3bj/def2-tzvppd</th>\n",
       "      <td>OpenFF model B3LYP-d3bj/def2-tzvppd TorsionDri...</td>\n",
       "    </tr>\n",
       "    <tr>\n",
       "      <th>BLYP-d3bj/dzvp</th>\n",
       "      <td>OpenFF model BLYP-d3bj/dzvp TorsionDrive explo...</td>\n",
       "    </tr>\n",
       "    <tr>\n",
       "      <th>BLYP-d3bj/aug-cc-pvdz</th>\n",
       "      <td>OpenFF model BLYP-d3bj/aug-cc-pvdz TorsionDriv...</td>\n",
       "    </tr>\n",
       "    <tr>\n",
       "      <th>BLYP-d3bj/aug-cc-pvtz</th>\n",
       "      <td>OpenFF model BLYP-d3bj/aug-cc-pvtz TorsionDriv...</td>\n",
       "    </tr>\n",
       "    <tr>\n",
       "      <th>BLYP-d3bj/def2-tzvppd</th>\n",
       "      <td>OpenFF model BLYP-d3bj/def2-tzvppd TorsionDriv...</td>\n",
       "    </tr>\n",
       "    <tr>\n",
       "      <th>LRC-WPBEH/dzvp</th>\n",
       "      <td>OpenFF model LRC-WPBEH/dzvp TorsionDrive explo...</td>\n",
       "    </tr>\n",
       "    <tr>\n",
       "      <th>LRC-WPBEH/aug-cc-pvdz</th>\n",
       "      <td>OpenFF model LRC-WPBEH/aug-cc-pvdz TorsionDriv...</td>\n",
       "    </tr>\n",
       "    <tr>\n",
       "      <th>LRC-WPBEH/aug-cc-pvtz</th>\n",
       "      <td>OpenFF model LRC-WPBEH/aug-cc-pvtz TorsionDriv...</td>\n",
       "    </tr>\n",
       "    <tr>\n",
       "      <th>LRC-WPBEH/def2-tzvppd</th>\n",
       "      <td>OpenFF model LRC-WPBEH/def2-tzvppd TorsionDriv...</td>\n",
       "    </tr>\n",
       "    <tr>\n",
       "      <th>MN15-d3bJ/dzvp</th>\n",
       "      <td>OpenFF model MN15-d3bJ/dzvp TorsionDrive explo...</td>\n",
       "    </tr>\n",
       "    <tr>\n",
       "      <th>MN15-d3bJ/aug-cc-pvdz</th>\n",
       "      <td>OpenFF model MN15-d3bJ/aug-cc-pvdz TorsionDriv...</td>\n",
       "    </tr>\n",
       "    <tr>\n",
       "      <th>MN15-d3bJ/aug-cc-pvtz</th>\n",
       "      <td>OpenFF model MN15-d3bJ/aug-cc-pvtz TorsionDriv...</td>\n",
       "    </tr>\n",
       "    <tr>\n",
       "      <th>MN15-d3bJ/def2-tzvppd</th>\n",
       "      <td>OpenFF model MN15-d3bJ/def2-tzvppd TorsionDriv...</td>\n",
       "    </tr>\n",
       "    <tr>\n",
       "      <th>TPSSH-d3bJ/dzvp</th>\n",
       "      <td>OpenFF model TPSSH-d3bJ/dzvp TorsionDrive expl...</td>\n",
       "    </tr>\n",
       "    <tr>\n",
       "      <th>TPSSH-d3bJ/aug-cc-pvdz</th>\n",
       "      <td>OpenFF model TPSSH-d3bJ/aug-cc-pvdz TorsionDri...</td>\n",
       "    </tr>\n",
       "    <tr>\n",
       "      <th>TPSSH-d3bJ/aug-cc-pvtz</th>\n",
       "      <td>OpenFF model TPSSH-d3bJ/aug-cc-pvtz TorsionDri...</td>\n",
       "    </tr>\n",
       "    <tr>\n",
       "      <th>TPSSH-d3bJ/def2-tzvppd</th>\n",
       "      <td>OpenFF model TPSSH-d3bJ/def2-tzvppd TorsionDri...</td>\n",
       "    </tr>\n",
       "  </tbody>\n",
       "</table>\n",
       "</div>"
      ],
      "text/plain": [
       "                                                              Description\n",
       "Name                                                                     \n",
       "default                       Standard OpenFF torsiondrive specification.\n",
       "B3LYP-d3bj/aug-cc-pvdz  OpenFF model B3LYP-d3bj/aug-cc-pvdz TorsionDri...\n",
       "B3LYP-d3bj/aug-cc-pvtz  OpenFF model B3LYP-d3bj/aug-cc-pvtz TorsionDri...\n",
       "B3LYP-d3bj/def2-tzvppd  OpenFF model B3LYP-d3bj/def2-tzvppd TorsionDri...\n",
       "BLYP-d3bj/dzvp          OpenFF model BLYP-d3bj/dzvp TorsionDrive explo...\n",
       "BLYP-d3bj/aug-cc-pvdz   OpenFF model BLYP-d3bj/aug-cc-pvdz TorsionDriv...\n",
       "BLYP-d3bj/aug-cc-pvtz   OpenFF model BLYP-d3bj/aug-cc-pvtz TorsionDriv...\n",
       "BLYP-d3bj/def2-tzvppd   OpenFF model BLYP-d3bj/def2-tzvppd TorsionDriv...\n",
       "LRC-WPBEH/dzvp          OpenFF model LRC-WPBEH/dzvp TorsionDrive explo...\n",
       "LRC-WPBEH/aug-cc-pvdz   OpenFF model LRC-WPBEH/aug-cc-pvdz TorsionDriv...\n",
       "LRC-WPBEH/aug-cc-pvtz   OpenFF model LRC-WPBEH/aug-cc-pvtz TorsionDriv...\n",
       "LRC-WPBEH/def2-tzvppd   OpenFF model LRC-WPBEH/def2-tzvppd TorsionDriv...\n",
       "MN15-d3bJ/dzvp          OpenFF model MN15-d3bJ/dzvp TorsionDrive explo...\n",
       "MN15-d3bJ/aug-cc-pvdz   OpenFF model MN15-d3bJ/aug-cc-pvdz TorsionDriv...\n",
       "MN15-d3bJ/aug-cc-pvtz   OpenFF model MN15-d3bJ/aug-cc-pvtz TorsionDriv...\n",
       "MN15-d3bJ/def2-tzvppd   OpenFF model MN15-d3bJ/def2-tzvppd TorsionDriv...\n",
       "TPSSH-d3bJ/dzvp         OpenFF model TPSSH-d3bJ/dzvp TorsionDrive expl...\n",
       "TPSSH-d3bJ/aug-cc-pvdz  OpenFF model TPSSH-d3bJ/aug-cc-pvdz TorsionDri...\n",
       "TPSSH-d3bJ/aug-cc-pvtz  OpenFF model TPSSH-d3bJ/aug-cc-pvtz TorsionDri...\n",
       "TPSSH-d3bJ/def2-tzvppd  OpenFF model TPSSH-d3bJ/def2-tzvppd TorsionDri..."
      ]
     },
     "execution_count": 7,
     "metadata": {},
     "output_type": "execute_result"
    }
   ],
   "source": [
    "ds.list_specifications()"
   ]
  },
  {
   "cell_type": "markdown",
   "metadata": {},
   "source": [
    "'default' always means 'b3lyp-d3bj' for us."
   ]
  },
  {
   "cell_type": "code",
   "execution_count": 12,
   "metadata": {},
   "outputs": [
    {
     "data": {
      "text/html": [
       "<div>\n",
       "<style scoped>\n",
       "    .dataframe tbody tr th:only-of-type {\n",
       "        vertical-align: middle;\n",
       "    }\n",
       "\n",
       "    .dataframe tbody tr th {\n",
       "        vertical-align: top;\n",
       "    }\n",
       "\n",
       "    .dataframe thead th {\n",
       "        text-align: right;\n",
       "    }\n",
       "</style>\n",
       "<table border=\"1\" class=\"dataframe\">\n",
       "  <thead>\n",
       "    <tr style=\"text-align: right;\">\n",
       "      <th></th>\n",
       "      <th>default</th>\n",
       "    </tr>\n",
       "  </thead>\n",
       "  <tbody>\n",
       "    <tr>\n",
       "      <th>COMPLETE</th>\n",
       "      <td>16</td>\n",
       "    </tr>\n",
       "    <tr>\n",
       "      <th>ERROR</th>\n",
       "      <td>3</td>\n",
       "    </tr>\n",
       "    <tr>\n",
       "      <th>RUNNING</th>\n",
       "      <td>3</td>\n",
       "    </tr>\n",
       "  </tbody>\n",
       "</table>\n",
       "</div>"
      ],
      "text/plain": [
       "          default\n",
       "COMPLETE       16\n",
       "ERROR           3\n",
       "RUNNING         3"
      ]
     },
     "execution_count": 12,
     "metadata": {},
     "output_type": "execute_result"
    }
   ],
   "source": [
    "ds.status(\"default\")"
   ]
  },
  {
   "cell_type": "code",
   "execution_count": 13,
   "metadata": {},
   "outputs": [
    {
     "data": {
      "text/html": [
       "<div>\n",
       "<style scoped>\n",
       "    .dataframe tbody tr th:only-of-type {\n",
       "        vertical-align: middle;\n",
       "    }\n",
       "\n",
       "    .dataframe tbody tr th {\n",
       "        vertical-align: top;\n",
       "    }\n",
       "\n",
       "    .dataframe thead th {\n",
       "        text-align: right;\n",
       "    }\n",
       "</style>\n",
       "<table border=\"1\" class=\"dataframe\">\n",
       "  <thead>\n",
       "    <tr style=\"text-align: right;\">\n",
       "      <th></th>\n",
       "      <th>default</th>\n",
       "    </tr>\n",
       "  </thead>\n",
       "  <tbody>\n",
       "    <tr>\n",
       "      <th>Cc1c[c:2]([c:1]2ccccc2c1OP(=O)([O-])[O-])[O:3][P:4](=O)([O-])[O-]</th>\n",
       "      <td>TorsionDriveRecord(id='19712153', status='COMP...</td>\n",
       "    </tr>\n",
       "    <tr>\n",
       "      <th>c1cc[c:1]2c(c1)ccc[c:2]2[O:3][P:4](=O)([O-])[O-]</th>\n",
       "      <td>TorsionDriveRecord(id='20548975', status='RUNN...</td>\n",
       "    </tr>\n",
       "    <tr>\n",
       "      <th>c1ccc(cc1)C[CH2:1][NH:2]/[C:3](=[NH+:4]/C(=[NH2+])N)/N</th>\n",
       "      <td>TorsionDriveRecord(id='19712155', status='COMP...</td>\n",
       "    </tr>\n",
       "    <tr>\n",
       "      <th>C[CH2:1][NH:2]/[C:3](=[NH+:4]/C=[NH2+])/N</th>\n",
       "      <td>TorsionDriveRecord(id='20548976', status='COMP...</td>\n",
       "    </tr>\n",
       "    <tr>\n",
       "      <th>C[CH2:1][NH:2]/[C:3](=[NH+:4]/C)/N</th>\n",
       "      <td>TorsionDriveRecord(id='20548977', status='COMP...</td>\n",
       "    </tr>\n",
       "    <tr>\n",
       "      <th>Cc1c([nH]cn1)CSC[CH2:1][NH:2]/[C:3](=N\\C#N)/[NH:4]C</th>\n",
       "      <td>TorsionDriveRecord(id='19712158', status='COMP...</td>\n",
       "    </tr>\n",
       "    <tr>\n",
       "      <th>C[CH2:1][NH:2]/[C:3](=[N:4]\\C#N)/NC</th>\n",
       "      <td>TorsionDriveRecord(id='20548978', status='COMP...</td>\n",
       "    </tr>\n",
       "    <tr>\n",
       "      <th>C[CH2:1][NH:2]/[C:3](=[N:4]\\C)/NC</th>\n",
       "      <td>TorsionDriveRecord(id='20548979', status='COMP...</td>\n",
       "    </tr>\n",
       "    <tr>\n",
       "      <th>c1cc(oc1)[CH2:1][NH:2][c:3]2cc(c(c[c:4]2C(=O)[O-])S(=O)(=O)N)Cl</th>\n",
       "      <td>TorsionDriveRecord(id='19712161', status='COMP...</td>\n",
       "    </tr>\n",
       "    <tr>\n",
       "      <th>c1cc(oc1)[CH2:4][NH:3][c:2]2cc(c(c[c:1]2C(=O)[O-])S(=O)(=O)N)Cl</th>\n",
       "      <td>TorsionDriveRecord(id='19712162', status='COMP...</td>\n",
       "    </tr>\n",
       "    <tr>\n",
       "      <th>c1cc[c:2]([c:1](c1)C(=O)[O-])[NH:3][CH2:4]c2ccco2</th>\n",
       "      <td>TorsionDriveRecord(id='20548992', status='COMP...</td>\n",
       "    </tr>\n",
       "    <tr>\n",
       "      <th>c1cc(oc1)CNc2c[c:1]([c:2](cc2C(=O)[O-])[S:3](=[O:4])(=O)N)Cl</th>\n",
       "      <td>TorsionDriveRecord(id='19712164', status='COMP...</td>\n",
       "    </tr>\n",
       "    <tr>\n",
       "      <th>c1c[c:1]([c:2](cc1C(=O)[O-])[S:3](=[O:4])(=O)N)Cl</th>\n",
       "      <td>TorsionDriveRecord(id='20548993', status='COMP...</td>\n",
       "    </tr>\n",
       "    <tr>\n",
       "      <th>c1cc[c:1]([c:2](c1)[S:3](=[O:4])(=O)N)Cl</th>\n",
       "      <td>TorsionDriveRecord(id='20548994', status='ERROR')</td>\n",
       "    </tr>\n",
       "    <tr>\n",
       "      <th>CC[NH+](CC)C[CH2:4][O:3][C:2](=[O:1])c1ccc(cc1Cl)N</th>\n",
       "      <td>TorsionDriveRecord(id='19712167', status='COMP...</td>\n",
       "    </tr>\n",
       "    <tr>\n",
       "      <th>c1ccc(c(c1)[C:3](=[O:4])[O:2][CH2:1]C[NH3+])Cl</th>\n",
       "      <td>TorsionDriveRecord(id='20548995', status='COMP...</td>\n",
       "    </tr>\n",
       "    <tr>\n",
       "      <th>C[CH2:1][O:2][C:3](=[O:4])c1ccccc1Cl</th>\n",
       "      <td>TorsionDriveRecord(id='20548996', status='COMP...</td>\n",
       "    </tr>\n",
       "    <tr>\n",
       "      <th>c1c(cc([c:2]([c:1]1I)[O:3][c:4]2cc(c(c(c2)I)[O-])I)I)C[C@H](C(=O)[O-])[NH3+]</th>\n",
       "      <td>TorsionDriveRecord(id='19712170', status='RUNN...</td>\n",
       "    </tr>\n",
       "    <tr>\n",
       "      <th>Cc1c[c:1]([c:2](c(c1)I)[O:3][c:4]2cc(c(c(c2)I)[O-])I)I</th>\n",
       "      <td>TorsionDriveRecord(id='20548997', status='ERROR')</td>\n",
       "    </tr>\n",
       "    <tr>\n",
       "      <th>c1cc[c:1](cc1)[O:2][c:3]2c(ccc[c:4]2I)I</th>\n",
       "      <td>TorsionDriveRecord(id='20548998', status='ERROR')</td>\n",
       "    </tr>\n",
       "    <tr>\n",
       "      <th>CC(=O)Oc1ccccc1[C:1](=O)[NH:2][c:3]2ncc([s:4]2)[N+](=O)[O-]</th>\n",
       "      <td>TorsionDriveRecord(id='19712173', status='RUNN...</td>\n",
       "    </tr>\n",
       "    <tr>\n",
       "      <th>CC(=O)Oc1ccccc1[C:1](=O)[NH:2][c:3]2ncc[s:4]2</th>\n",
       "      <td>TorsionDriveRecord(id='20548999', status='COMP...</td>\n",
       "    </tr>\n",
       "  </tbody>\n",
       "</table>\n",
       "</div>"
      ],
      "text/plain": [
       "                                                                                              default\n",
       "Cc1c[c:2]([c:1]2ccccc2c1OP(=O)([O-])[O-])[O:3][...  TorsionDriveRecord(id='19712153', status='COMP...\n",
       "c1cc[c:1]2c(c1)ccc[c:2]2[O:3][P:4](=O)([O-])[O-]    TorsionDriveRecord(id='20548975', status='RUNN...\n",
       "c1ccc(cc1)C[CH2:1][NH:2]/[C:3](=[NH+:4]/C(=[NH2...  TorsionDriveRecord(id='19712155', status='COMP...\n",
       "C[CH2:1][NH:2]/[C:3](=[NH+:4]/C=[NH2+])/N           TorsionDriveRecord(id='20548976', status='COMP...\n",
       "C[CH2:1][NH:2]/[C:3](=[NH+:4]/C)/N                  TorsionDriveRecord(id='20548977', status='COMP...\n",
       "Cc1c([nH]cn1)CSC[CH2:1][NH:2]/[C:3](=N\\C#N)/[NH...  TorsionDriveRecord(id='19712158', status='COMP...\n",
       "C[CH2:1][NH:2]/[C:3](=[N:4]\\C#N)/NC                 TorsionDriveRecord(id='20548978', status='COMP...\n",
       "C[CH2:1][NH:2]/[C:3](=[N:4]\\C)/NC                   TorsionDriveRecord(id='20548979', status='COMP...\n",
       "c1cc(oc1)[CH2:1][NH:2][c:3]2cc(c(c[c:4]2C(=O)[O...  TorsionDriveRecord(id='19712161', status='COMP...\n",
       "c1cc(oc1)[CH2:4][NH:3][c:2]2cc(c(c[c:1]2C(=O)[O...  TorsionDriveRecord(id='19712162', status='COMP...\n",
       "c1cc[c:2]([c:1](c1)C(=O)[O-])[NH:3][CH2:4]c2ccco2   TorsionDriveRecord(id='20548992', status='COMP...\n",
       "c1cc(oc1)CNc2c[c:1]([c:2](cc2C(=O)[O-])[S:3](=[...  TorsionDriveRecord(id='19712164', status='COMP...\n",
       "c1c[c:1]([c:2](cc1C(=O)[O-])[S:3](=[O:4])(=O)N)Cl   TorsionDriveRecord(id='20548993', status='COMP...\n",
       "c1cc[c:1]([c:2](c1)[S:3](=[O:4])(=O)N)Cl            TorsionDriveRecord(id='20548994', status='ERROR')\n",
       "CC[NH+](CC)C[CH2:4][O:3][C:2](=[O:1])c1ccc(cc1Cl)N  TorsionDriveRecord(id='19712167', status='COMP...\n",
       "c1ccc(c(c1)[C:3](=[O:4])[O:2][CH2:1]C[NH3+])Cl      TorsionDriveRecord(id='20548995', status='COMP...\n",
       "C[CH2:1][O:2][C:3](=[O:4])c1ccccc1Cl                TorsionDriveRecord(id='20548996', status='COMP...\n",
       "c1c(cc([c:2]([c:1]1I)[O:3][c:4]2cc(c(c(c2)I)[O-...  TorsionDriveRecord(id='19712170', status='RUNN...\n",
       "Cc1c[c:1]([c:2](c(c1)I)[O:3][c:4]2cc(c(c(c2)I)[...  TorsionDriveRecord(id='20548997', status='ERROR')\n",
       "c1cc[c:1](cc1)[O:2][c:3]2c(ccc[c:4]2I)I             TorsionDriveRecord(id='20548998', status='ERROR')\n",
       "CC(=O)Oc1ccccc1[C:1](=O)[NH:2][c:3]2ncc([s:4]2)...  TorsionDriveRecord(id='19712173', status='RUNN...\n",
       "CC(=O)Oc1ccccc1[C:1](=O)[NH:2][c:3]2ncc[s:4]2       TorsionDriveRecord(id='20548999', status='COMP..."
      ]
     },
     "execution_count": 13,
     "metadata": {},
     "output_type": "execute_result"
    }
   ],
   "source": [
    "ds.df"
   ]
  },
  {
   "cell_type": "markdown",
   "metadata": {},
   "source": [
    "## Problem cases"
   ]
  },
  {
   "cell_type": "markdown",
   "metadata": {},
   "source": [
    "\n",
    "From 'OpenFF Fragmenter Validation 1.0', job index: c1ccc:1Cl job id: '20548994'. Error message:\n",
    "```\n",
    "ComputeError(error_type='CancelledError', error_message='Caught Executor Error:\\nTraceback (most recent call last):\\n  File \"/home/chodera/miniconda/envs/qcfractal/lib/python3.6/site-packages/qcfractal/queue/executor_adapter.py\", line 15, in _get_future\\n    return future.result()\\n  File \"/home/chodera/miniconda/envs/qcfractal/lib/python3.6/concurrent/futures/_base.py\", line 423, in result\\n    raise CancelledError()\\nconcurrent.futures._base.CancelledError\\n')\n",
    ")\n",
    "```"
   ]
  },
  {
   "cell_type": "code",
   "execution_count": 36,
   "metadata": {},
   "outputs": [
    {
     "data": {
      "text/plain": [
       "[TorsionDriveRecord(id='20548994', status='ERROR'),\n",
       " TorsionDriveRecord(id='20548997', status='ERROR'),\n",
       " TorsionDriveRecord(id='20548998', status='ERROR')]"
      ]
     },
     "execution_count": 36,
     "metadata": {},
     "output_type": "execute_result"
    }
   ],
   "source": [
    "erred = [i for i in ds.df.default.values if i.status == 'ERROR']\n",
    "erred"
   ]
  },
  {
   "cell_type": "markdown",
   "metadata": {},
   "source": [
    "Start with the first one:"
   ]
  },
  {
   "cell_type": "code",
   "execution_count": 37,
   "metadata": {},
   "outputs": [],
   "source": [
    "tdr = erred[0]"
   ]
  },
  {
   "cell_type": "code",
   "execution_count": 49,
   "metadata": {},
   "outputs": [
    {
     "data": {
      "text/plain": [
       "'20548994'"
      ]
     },
     "execution_count": 49,
     "metadata": {},
     "output_type": "execute_result"
    }
   ],
   "source": [
    "tdr.id"
   ]
  },
  {
   "cell_type": "code",
   "execution_count": 50,
   "metadata": {},
   "outputs": [
    {
     "data": {
      "text/plain": [
       "Data(n_updated=1)"
      ]
     },
     "execution_count": 50,
     "metadata": {},
     "output_type": "execute_result"
    }
   ],
   "source": [
    "client.modify_services(operation='restart', procedure_id=tdr.id)"
   ]
  },
  {
   "cell_type": "code",
   "execution_count": null,
   "metadata": {},
   "outputs": [],
   "source": []
  },
  {
   "cell_type": "code",
   "execution_count": 51,
   "metadata": {},
   "outputs": [],
   "source": [
    "ds = client.get_collection(\"TorsionDriveDataset\", \"OpenFF Fragmenter Validation 1.0\")"
   ]
  },
  {
   "cell_type": "code",
   "execution_count": 52,
   "metadata": {},
   "outputs": [
    {
     "data": {
      "text/html": [
       "<div>\n",
       "<style scoped>\n",
       "    .dataframe tbody tr th:only-of-type {\n",
       "        vertical-align: middle;\n",
       "    }\n",
       "\n",
       "    .dataframe tbody tr th {\n",
       "        vertical-align: top;\n",
       "    }\n",
       "\n",
       "    .dataframe thead th {\n",
       "        text-align: right;\n",
       "    }\n",
       "</style>\n",
       "<table border=\"1\" class=\"dataframe\">\n",
       "  <thead>\n",
       "    <tr style=\"text-align: right;\">\n",
       "      <th></th>\n",
       "      <th>Description</th>\n",
       "    </tr>\n",
       "    <tr>\n",
       "      <th>Name</th>\n",
       "      <th></th>\n",
       "    </tr>\n",
       "  </thead>\n",
       "  <tbody>\n",
       "    <tr>\n",
       "      <th>default</th>\n",
       "      <td>Standard OpenFF torsiondrive specification.</td>\n",
       "    </tr>\n",
       "    <tr>\n",
       "      <th>B3LYP-d3bj/aug-cc-pvdz</th>\n",
       "      <td>OpenFF model B3LYP-d3bj/aug-cc-pvdz TorsionDri...</td>\n",
       "    </tr>\n",
       "    <tr>\n",
       "      <th>B3LYP-d3bj/aug-cc-pvtz</th>\n",
       "      <td>OpenFF model B3LYP-d3bj/aug-cc-pvtz TorsionDri...</td>\n",
       "    </tr>\n",
       "    <tr>\n",
       "      <th>B3LYP-d3bj/def2-tzvppd</th>\n",
       "      <td>OpenFF model B3LYP-d3bj/def2-tzvppd TorsionDri...</td>\n",
       "    </tr>\n",
       "    <tr>\n",
       "      <th>BLYP-d3bj/dzvp</th>\n",
       "      <td>OpenFF model BLYP-d3bj/dzvp TorsionDrive explo...</td>\n",
       "    </tr>\n",
       "    <tr>\n",
       "      <th>BLYP-d3bj/aug-cc-pvdz</th>\n",
       "      <td>OpenFF model BLYP-d3bj/aug-cc-pvdz TorsionDriv...</td>\n",
       "    </tr>\n",
       "    <tr>\n",
       "      <th>BLYP-d3bj/aug-cc-pvtz</th>\n",
       "      <td>OpenFF model BLYP-d3bj/aug-cc-pvtz TorsionDriv...</td>\n",
       "    </tr>\n",
       "    <tr>\n",
       "      <th>BLYP-d3bj/def2-tzvppd</th>\n",
       "      <td>OpenFF model BLYP-d3bj/def2-tzvppd TorsionDriv...</td>\n",
       "    </tr>\n",
       "    <tr>\n",
       "      <th>LRC-WPBEH/dzvp</th>\n",
       "      <td>OpenFF model LRC-WPBEH/dzvp TorsionDrive explo...</td>\n",
       "    </tr>\n",
       "    <tr>\n",
       "      <th>LRC-WPBEH/aug-cc-pvdz</th>\n",
       "      <td>OpenFF model LRC-WPBEH/aug-cc-pvdz TorsionDriv...</td>\n",
       "    </tr>\n",
       "    <tr>\n",
       "      <th>LRC-WPBEH/aug-cc-pvtz</th>\n",
       "      <td>OpenFF model LRC-WPBEH/aug-cc-pvtz TorsionDriv...</td>\n",
       "    </tr>\n",
       "    <tr>\n",
       "      <th>LRC-WPBEH/def2-tzvppd</th>\n",
       "      <td>OpenFF model LRC-WPBEH/def2-tzvppd TorsionDriv...</td>\n",
       "    </tr>\n",
       "    <tr>\n",
       "      <th>MN15-d3bJ/dzvp</th>\n",
       "      <td>OpenFF model MN15-d3bJ/dzvp TorsionDrive explo...</td>\n",
       "    </tr>\n",
       "    <tr>\n",
       "      <th>MN15-d3bJ/aug-cc-pvdz</th>\n",
       "      <td>OpenFF model MN15-d3bJ/aug-cc-pvdz TorsionDriv...</td>\n",
       "    </tr>\n",
       "    <tr>\n",
       "      <th>MN15-d3bJ/aug-cc-pvtz</th>\n",
       "      <td>OpenFF model MN15-d3bJ/aug-cc-pvtz TorsionDriv...</td>\n",
       "    </tr>\n",
       "    <tr>\n",
       "      <th>MN15-d3bJ/def2-tzvppd</th>\n",
       "      <td>OpenFF model MN15-d3bJ/def2-tzvppd TorsionDriv...</td>\n",
       "    </tr>\n",
       "    <tr>\n",
       "      <th>TPSSH-d3bJ/dzvp</th>\n",
       "      <td>OpenFF model TPSSH-d3bJ/dzvp TorsionDrive expl...</td>\n",
       "    </tr>\n",
       "    <tr>\n",
       "      <th>TPSSH-d3bJ/aug-cc-pvdz</th>\n",
       "      <td>OpenFF model TPSSH-d3bJ/aug-cc-pvdz TorsionDri...</td>\n",
       "    </tr>\n",
       "    <tr>\n",
       "      <th>TPSSH-d3bJ/aug-cc-pvtz</th>\n",
       "      <td>OpenFF model TPSSH-d3bJ/aug-cc-pvtz TorsionDri...</td>\n",
       "    </tr>\n",
       "    <tr>\n",
       "      <th>TPSSH-d3bJ/def2-tzvppd</th>\n",
       "      <td>OpenFF model TPSSH-d3bJ/def2-tzvppd TorsionDri...</td>\n",
       "    </tr>\n",
       "  </tbody>\n",
       "</table>\n",
       "</div>"
      ],
      "text/plain": [
       "                                                              Description\n",
       "Name                                                                     \n",
       "default                       Standard OpenFF torsiondrive specification.\n",
       "B3LYP-d3bj/aug-cc-pvdz  OpenFF model B3LYP-d3bj/aug-cc-pvdz TorsionDri...\n",
       "B3LYP-d3bj/aug-cc-pvtz  OpenFF model B3LYP-d3bj/aug-cc-pvtz TorsionDri...\n",
       "B3LYP-d3bj/def2-tzvppd  OpenFF model B3LYP-d3bj/def2-tzvppd TorsionDri...\n",
       "BLYP-d3bj/dzvp          OpenFF model BLYP-d3bj/dzvp TorsionDrive explo...\n",
       "BLYP-d3bj/aug-cc-pvdz   OpenFF model BLYP-d3bj/aug-cc-pvdz TorsionDriv...\n",
       "BLYP-d3bj/aug-cc-pvtz   OpenFF model BLYP-d3bj/aug-cc-pvtz TorsionDriv...\n",
       "BLYP-d3bj/def2-tzvppd   OpenFF model BLYP-d3bj/def2-tzvppd TorsionDriv...\n",
       "LRC-WPBEH/dzvp          OpenFF model LRC-WPBEH/dzvp TorsionDrive explo...\n",
       "LRC-WPBEH/aug-cc-pvdz   OpenFF model LRC-WPBEH/aug-cc-pvdz TorsionDriv...\n",
       "LRC-WPBEH/aug-cc-pvtz   OpenFF model LRC-WPBEH/aug-cc-pvtz TorsionDriv...\n",
       "LRC-WPBEH/def2-tzvppd   OpenFF model LRC-WPBEH/def2-tzvppd TorsionDriv...\n",
       "MN15-d3bJ/dzvp          OpenFF model MN15-d3bJ/dzvp TorsionDrive explo...\n",
       "MN15-d3bJ/aug-cc-pvdz   OpenFF model MN15-d3bJ/aug-cc-pvdz TorsionDriv...\n",
       "MN15-d3bJ/aug-cc-pvtz   OpenFF model MN15-d3bJ/aug-cc-pvtz TorsionDriv...\n",
       "MN15-d3bJ/def2-tzvppd   OpenFF model MN15-d3bJ/def2-tzvppd TorsionDriv...\n",
       "TPSSH-d3bJ/dzvp         OpenFF model TPSSH-d3bJ/dzvp TorsionDrive expl...\n",
       "TPSSH-d3bJ/aug-cc-pvdz  OpenFF model TPSSH-d3bJ/aug-cc-pvdz TorsionDri...\n",
       "TPSSH-d3bJ/aug-cc-pvtz  OpenFF model TPSSH-d3bJ/aug-cc-pvtz TorsionDri...\n",
       "TPSSH-d3bJ/def2-tzvppd  OpenFF model TPSSH-d3bJ/def2-tzvppd TorsionDri..."
      ]
     },
     "execution_count": 52,
     "metadata": {},
     "output_type": "execute_result"
    }
   ],
   "source": [
    "ds.list_specifications()"
   ]
  },
  {
   "cell_type": "markdown",
   "metadata": {},
   "source": [
    "'default' always means 'b3lyp-d3bj' for us."
   ]
  },
  {
   "cell_type": "code",
   "execution_count": 54,
   "metadata": {},
   "outputs": [
    {
     "data": {
      "text/html": [
       "<div>\n",
       "<style scoped>\n",
       "    .dataframe tbody tr th:only-of-type {\n",
       "        vertical-align: middle;\n",
       "    }\n",
       "\n",
       "    .dataframe tbody tr th {\n",
       "        vertical-align: top;\n",
       "    }\n",
       "\n",
       "    .dataframe thead th {\n",
       "        text-align: right;\n",
       "    }\n",
       "</style>\n",
       "<table border=\"1\" class=\"dataframe\">\n",
       "  <thead>\n",
       "    <tr style=\"text-align: right;\">\n",
       "      <th></th>\n",
       "      <th>default</th>\n",
       "    </tr>\n",
       "  </thead>\n",
       "  <tbody>\n",
       "    <tr>\n",
       "      <th>COMPLETE</th>\n",
       "      <td>16</td>\n",
       "    </tr>\n",
       "    <tr>\n",
       "      <th>RUNNING</th>\n",
       "      <td>4</td>\n",
       "    </tr>\n",
       "    <tr>\n",
       "      <th>ERROR</th>\n",
       "      <td>2</td>\n",
       "    </tr>\n",
       "  </tbody>\n",
       "</table>\n",
       "</div>"
      ],
      "text/plain": [
       "          default\n",
       "COMPLETE       16\n",
       "RUNNING         4\n",
       "ERROR           2"
      ]
     },
     "execution_count": 54,
     "metadata": {},
     "output_type": "execute_result"
    }
   ],
   "source": [
    "ds.status(\"default\")"
   ]
  },
  {
   "cell_type": "code",
   "execution_count": 56,
   "metadata": {},
   "outputs": [
    {
     "data": {
      "text/html": [
       "<div>\n",
       "<style scoped>\n",
       "    .dataframe tbody tr th:only-of-type {\n",
       "        vertical-align: middle;\n",
       "    }\n",
       "\n",
       "    .dataframe tbody tr th {\n",
       "        vertical-align: top;\n",
       "    }\n",
       "\n",
       "    .dataframe thead th {\n",
       "        text-align: right;\n",
       "    }\n",
       "</style>\n",
       "<table border=\"1\" class=\"dataframe\">\n",
       "  <thead>\n",
       "    <tr style=\"text-align: right;\">\n",
       "      <th></th>\n",
       "      <th>default</th>\n",
       "    </tr>\n",
       "  </thead>\n",
       "  <tbody>\n",
       "    <tr>\n",
       "      <th>Cc1c[c:2]([c:1]2ccccc2c1OP(=O)([O-])[O-])[O:3][P:4](=O)([O-])[O-]</th>\n",
       "      <td>TorsionDriveRecord(id='19712153', status='COMP...</td>\n",
       "    </tr>\n",
       "    <tr>\n",
       "      <th>c1cc[c:1]2c(c1)ccc[c:2]2[O:3][P:4](=O)([O-])[O-]</th>\n",
       "      <td>TorsionDriveRecord(id='20548975', status='RUNN...</td>\n",
       "    </tr>\n",
       "    <tr>\n",
       "      <th>c1ccc(cc1)C[CH2:1][NH:2]/[C:3](=[NH+:4]/C(=[NH2+])N)/N</th>\n",
       "      <td>TorsionDriveRecord(id='19712155', status='COMP...</td>\n",
       "    </tr>\n",
       "    <tr>\n",
       "      <th>C[CH2:1][NH:2]/[C:3](=[NH+:4]/C=[NH2+])/N</th>\n",
       "      <td>TorsionDriveRecord(id='20548976', status='COMP...</td>\n",
       "    </tr>\n",
       "    <tr>\n",
       "      <th>C[CH2:1][NH:2]/[C:3](=[NH+:4]/C)/N</th>\n",
       "      <td>TorsionDriveRecord(id='20548977', status='COMP...</td>\n",
       "    </tr>\n",
       "    <tr>\n",
       "      <th>Cc1c([nH]cn1)CSC[CH2:1][NH:2]/[C:3](=N\\C#N)/[NH:4]C</th>\n",
       "      <td>TorsionDriveRecord(id='19712158', status='COMP...</td>\n",
       "    </tr>\n",
       "    <tr>\n",
       "      <th>C[CH2:1][NH:2]/[C:3](=[N:4]\\C#N)/NC</th>\n",
       "      <td>TorsionDriveRecord(id='20548978', status='COMP...</td>\n",
       "    </tr>\n",
       "    <tr>\n",
       "      <th>C[CH2:1][NH:2]/[C:3](=[N:4]\\C)/NC</th>\n",
       "      <td>TorsionDriveRecord(id='20548979', status='COMP...</td>\n",
       "    </tr>\n",
       "    <tr>\n",
       "      <th>c1cc(oc1)[CH2:1][NH:2][c:3]2cc(c(c[c:4]2C(=O)[O-])S(=O)(=O)N)Cl</th>\n",
       "      <td>TorsionDriveRecord(id='19712161', status='COMP...</td>\n",
       "    </tr>\n",
       "    <tr>\n",
       "      <th>c1cc(oc1)[CH2:4][NH:3][c:2]2cc(c(c[c:1]2C(=O)[O-])S(=O)(=O)N)Cl</th>\n",
       "      <td>TorsionDriveRecord(id='19712162', status='COMP...</td>\n",
       "    </tr>\n",
       "    <tr>\n",
       "      <th>c1cc[c:2]([c:1](c1)C(=O)[O-])[NH:3][CH2:4]c2ccco2</th>\n",
       "      <td>TorsionDriveRecord(id='20548992', status='COMP...</td>\n",
       "    </tr>\n",
       "    <tr>\n",
       "      <th>c1cc(oc1)CNc2c[c:1]([c:2](cc2C(=O)[O-])[S:3](=[O:4])(=O)N)Cl</th>\n",
       "      <td>TorsionDriveRecord(id='19712164', status='COMP...</td>\n",
       "    </tr>\n",
       "    <tr>\n",
       "      <th>c1c[c:1]([c:2](cc1C(=O)[O-])[S:3](=[O:4])(=O)N)Cl</th>\n",
       "      <td>TorsionDriveRecord(id='20548993', status='COMP...</td>\n",
       "    </tr>\n",
       "    <tr>\n",
       "      <th>c1cc[c:1]([c:2](c1)[S:3](=[O:4])(=O)N)Cl</th>\n",
       "      <td>TorsionDriveRecord(id='20548994', status='RUNN...</td>\n",
       "    </tr>\n",
       "    <tr>\n",
       "      <th>CC[NH+](CC)C[CH2:4][O:3][C:2](=[O:1])c1ccc(cc1Cl)N</th>\n",
       "      <td>TorsionDriveRecord(id='19712167', status='COMP...</td>\n",
       "    </tr>\n",
       "    <tr>\n",
       "      <th>c1ccc(c(c1)[C:3](=[O:4])[O:2][CH2:1]C[NH3+])Cl</th>\n",
       "      <td>TorsionDriveRecord(id='20548995', status='COMP...</td>\n",
       "    </tr>\n",
       "    <tr>\n",
       "      <th>C[CH2:1][O:2][C:3](=[O:4])c1ccccc1Cl</th>\n",
       "      <td>TorsionDriveRecord(id='20548996', status='COMP...</td>\n",
       "    </tr>\n",
       "    <tr>\n",
       "      <th>c1c(cc([c:2]([c:1]1I)[O:3][c:4]2cc(c(c(c2)I)[O-])I)I)C[C@H](C(=O)[O-])[NH3+]</th>\n",
       "      <td>TorsionDriveRecord(id='19712170', status='RUNN...</td>\n",
       "    </tr>\n",
       "    <tr>\n",
       "      <th>Cc1c[c:1]([c:2](c(c1)I)[O:3][c:4]2cc(c(c(c2)I)[O-])I)I</th>\n",
       "      <td>TorsionDriveRecord(id='20548997', status='ERROR')</td>\n",
       "    </tr>\n",
       "    <tr>\n",
       "      <th>c1cc[c:1](cc1)[O:2][c:3]2c(ccc[c:4]2I)I</th>\n",
       "      <td>TorsionDriveRecord(id='20548998', status='ERROR')</td>\n",
       "    </tr>\n",
       "    <tr>\n",
       "      <th>CC(=O)Oc1ccccc1[C:1](=O)[NH:2][c:3]2ncc([s:4]2)[N+](=O)[O-]</th>\n",
       "      <td>TorsionDriveRecord(id='19712173', status='RUNN...</td>\n",
       "    </tr>\n",
       "    <tr>\n",
       "      <th>CC(=O)Oc1ccccc1[C:1](=O)[NH:2][c:3]2ncc[s:4]2</th>\n",
       "      <td>TorsionDriveRecord(id='20548999', status='COMP...</td>\n",
       "    </tr>\n",
       "  </tbody>\n",
       "</table>\n",
       "</div>"
      ],
      "text/plain": [
       "                                                                                              default\n",
       "Cc1c[c:2]([c:1]2ccccc2c1OP(=O)([O-])[O-])[O:3][...  TorsionDriveRecord(id='19712153', status='COMP...\n",
       "c1cc[c:1]2c(c1)ccc[c:2]2[O:3][P:4](=O)([O-])[O-]    TorsionDriveRecord(id='20548975', status='RUNN...\n",
       "c1ccc(cc1)C[CH2:1][NH:2]/[C:3](=[NH+:4]/C(=[NH2...  TorsionDriveRecord(id='19712155', status='COMP...\n",
       "C[CH2:1][NH:2]/[C:3](=[NH+:4]/C=[NH2+])/N           TorsionDriveRecord(id='20548976', status='COMP...\n",
       "C[CH2:1][NH:2]/[C:3](=[NH+:4]/C)/N                  TorsionDriveRecord(id='20548977', status='COMP...\n",
       "Cc1c([nH]cn1)CSC[CH2:1][NH:2]/[C:3](=N\\C#N)/[NH...  TorsionDriveRecord(id='19712158', status='COMP...\n",
       "C[CH2:1][NH:2]/[C:3](=[N:4]\\C#N)/NC                 TorsionDriveRecord(id='20548978', status='COMP...\n",
       "C[CH2:1][NH:2]/[C:3](=[N:4]\\C)/NC                   TorsionDriveRecord(id='20548979', status='COMP...\n",
       "c1cc(oc1)[CH2:1][NH:2][c:3]2cc(c(c[c:4]2C(=O)[O...  TorsionDriveRecord(id='19712161', status='COMP...\n",
       "c1cc(oc1)[CH2:4][NH:3][c:2]2cc(c(c[c:1]2C(=O)[O...  TorsionDriveRecord(id='19712162', status='COMP...\n",
       "c1cc[c:2]([c:1](c1)C(=O)[O-])[NH:3][CH2:4]c2ccco2   TorsionDriveRecord(id='20548992', status='COMP...\n",
       "c1cc(oc1)CNc2c[c:1]([c:2](cc2C(=O)[O-])[S:3](=[...  TorsionDriveRecord(id='19712164', status='COMP...\n",
       "c1c[c:1]([c:2](cc1C(=O)[O-])[S:3](=[O:4])(=O)N)Cl   TorsionDriveRecord(id='20548993', status='COMP...\n",
       "c1cc[c:1]([c:2](c1)[S:3](=[O:4])(=O)N)Cl            TorsionDriveRecord(id='20548994', status='RUNN...\n",
       "CC[NH+](CC)C[CH2:4][O:3][C:2](=[O:1])c1ccc(cc1Cl)N  TorsionDriveRecord(id='19712167', status='COMP...\n",
       "c1ccc(c(c1)[C:3](=[O:4])[O:2][CH2:1]C[NH3+])Cl      TorsionDriveRecord(id='20548995', status='COMP...\n",
       "C[CH2:1][O:2][C:3](=[O:4])c1ccccc1Cl                TorsionDriveRecord(id='20548996', status='COMP...\n",
       "c1c(cc([c:2]([c:1]1I)[O:3][c:4]2cc(c(c(c2)I)[O-...  TorsionDriveRecord(id='19712170', status='RUNN...\n",
       "Cc1c[c:1]([c:2](c(c1)I)[O:3][c:4]2cc(c(c(c2)I)[...  TorsionDriveRecord(id='20548997', status='ERROR')\n",
       "c1cc[c:1](cc1)[O:2][c:3]2c(ccc[c:4]2I)I             TorsionDriveRecord(id='20548998', status='ERROR')\n",
       "CC(=O)Oc1ccccc1[C:1](=O)[NH:2][c:3]2ncc([s:4]2)...  TorsionDriveRecord(id='19712173', status='RUNN...\n",
       "CC(=O)Oc1ccccc1[C:1](=O)[NH:2][c:3]2ncc[s:4]2       TorsionDriveRecord(id='20548999', status='COMP..."
      ]
     },
     "execution_count": 56,
     "metadata": {},
     "output_type": "execute_result"
    }
   ],
   "source": [
    "ds.df"
   ]
  }
 ],
 "metadata": {
  "kernelspec": {
   "display_name": "Python 3",
   "language": "python",
   "name": "python3"
  },
  "language_info": {
   "codemirror_mode": {
    "name": "ipython",
    "version": 3
   },
   "file_extension": ".py",
   "mimetype": "text/x-python",
   "name": "python",
   "nbconvert_exporter": "python",
   "pygments_lexer": "ipython3",
   "version": "3.8.2"
  }
 },
 "nbformat": 4,
 "nbformat_minor": 4
}
