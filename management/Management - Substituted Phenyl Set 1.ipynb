{
 "cells": [
  {
   "cell_type": "markdown",
   "metadata": {},
   "source": [
    "# Management - Substituted Phenyl Set 1"
   ]
  },
  {
   "cell_type": "code",
   "execution_count": 1,
   "metadata": {},
   "outputs": [],
   "source": [
    "import qcportal as ptl\n",
    "import pandas as pd\n",
    "import datetime\n",
    "import time"
   ]
  },
  {
   "cell_type": "code",
   "execution_count": 1,
   "metadata": {},
   "outputs": [],
   "source": [
    "# connect without auth\n",
    "# read only\n",
    "client = ptl.FractalClient()"
   ]
  },
  {
   "cell_type": "code",
   "execution_count": 2,
   "metadata": {},
   "outputs": [],
   "source": [
    "# connect with authentication, therefore write access\n",
    "# don't use unless you plan to submit things\n",
    "client = ptl.FractalClient.from_file()"
   ]
  },
  {
   "cell_type": "code",
   "execution_count": 3,
   "metadata": {},
   "outputs": [
    {
     "data": {
      "text/html": [
       "\n",
       "<h3>FractalClient</h3>\n",
       "<ul>\n",
       "  <li><b>Server:   &nbsp; </b>The MolSSI QCArchive Server</li>\n",
       "  <li><b>Address:  &nbsp; </b>https://api.qcarchive.molssi.org:443/</li>\n",
       "  <li><b>Username: &nbsp; </b>ddotson</li>\n",
       "</ul>\n"
      ],
      "text/plain": [
       "FractalClient(server_name='The MolSSI QCArchive Server', address='https://api.qcarchive.molssi.org:443/', username='ddotson')"
      ]
     },
     "execution_count": 3,
     "metadata": {},
     "output_type": "execute_result"
    }
   ],
   "source": [
    "client"
   ]
  },
  {
   "cell_type": "markdown",
   "metadata": {},
   "source": [
    "## Dataset tracking"
   ]
  },
  {
   "cell_type": "code",
   "execution_count": 35,
   "metadata": {},
   "outputs": [],
   "source": [
    "dataset = \"OpenFF Substituted Phenyl Set 1\""
   ]
  },
  {
   "cell_type": "code",
   "execution_count": 4,
   "metadata": {},
   "outputs": [],
   "source": [
    "ds = client.get_collection(\"TorsionDriveDataset\", dataset)"
   ]
  },
  {
   "cell_type": "code",
   "execution_count": 5,
   "metadata": {},
   "outputs": [
    {
     "data": {
      "text/html": [
       "<div>\n",
       "<style scoped>\n",
       "    .dataframe tbody tr th:only-of-type {\n",
       "        vertical-align: middle;\n",
       "    }\n",
       "\n",
       "    .dataframe tbody tr th {\n",
       "        vertical-align: top;\n",
       "    }\n",
       "\n",
       "    .dataframe thead th {\n",
       "        text-align: right;\n",
       "    }\n",
       "</style>\n",
       "<table border=\"1\" class=\"dataframe\">\n",
       "  <thead>\n",
       "    <tr style=\"text-align: right;\">\n",
       "      <th></th>\n",
       "      <th>Description</th>\n",
       "    </tr>\n",
       "    <tr>\n",
       "      <th>Name</th>\n",
       "      <th></th>\n",
       "    </tr>\n",
       "  </thead>\n",
       "  <tbody>\n",
       "    <tr>\n",
       "      <th>default</th>\n",
       "      <td>Standard OpenFF torsiondrive specification.</td>\n",
       "    </tr>\n",
       "  </tbody>\n",
       "</table>\n",
       "</div>"
      ],
      "text/plain": [
       "                                         Description\n",
       "Name                                                \n",
       "default  Standard OpenFF torsiondrive specification."
      ]
     },
     "execution_count": 5,
     "metadata": {},
     "output_type": "execute_result"
    }
   ],
   "source": [
    "ds.list_specifications()"
   ]
  },
  {
   "cell_type": "markdown",
   "metadata": {},
   "source": [
    "'default' always means 'b3lyp-d3bj' for us."
   ]
  },
  {
   "cell_type": "code",
   "execution_count": 8,
   "metadata": {},
   "outputs": [
    {
     "data": {
      "text/html": [
       "<div>\n",
       "<style scoped>\n",
       "    .dataframe tbody tr th:only-of-type {\n",
       "        vertical-align: middle;\n",
       "    }\n",
       "\n",
       "    .dataframe tbody tr th {\n",
       "        vertical-align: top;\n",
       "    }\n",
       "\n",
       "    .dataframe thead th {\n",
       "        text-align: right;\n",
       "    }\n",
       "</style>\n",
       "<table border=\"1\" class=\"dataframe\">\n",
       "  <thead>\n",
       "    <tr style=\"text-align: right;\">\n",
       "      <th></th>\n",
       "      <th>default</th>\n",
       "    </tr>\n",
       "  </thead>\n",
       "  <tbody>\n",
       "    <tr>\n",
       "      <th>COMPLETE</th>\n",
       "      <td>155</td>\n",
       "    </tr>\n",
       "    <tr>\n",
       "      <th>ERROR</th>\n",
       "      <td>4</td>\n",
       "    </tr>\n",
       "  </tbody>\n",
       "</table>\n",
       "</div>"
      ],
      "text/plain": [
       "          default\n",
       "COMPLETE      155\n",
       "ERROR           4"
      ]
     },
     "execution_count": 8,
     "metadata": {},
     "output_type": "execute_result"
    }
   ],
   "source": [
    "ds.status(\"default\")"
   ]
  },
  {
   "cell_type": "code",
   "execution_count": 9,
   "metadata": {},
   "outputs": [
    {
     "data": {
      "text/html": [
       "<div>\n",
       "<style scoped>\n",
       "    .dataframe tbody tr th:only-of-type {\n",
       "        vertical-align: middle;\n",
       "    }\n",
       "\n",
       "    .dataframe tbody tr th {\n",
       "        vertical-align: top;\n",
       "    }\n",
       "\n",
       "    .dataframe thead th {\n",
       "        text-align: right;\n",
       "    }\n",
       "</style>\n",
       "<table border=\"1\" class=\"dataframe\">\n",
       "  <thead>\n",
       "    <tr style=\"text-align: right;\">\n",
       "      <th></th>\n",
       "      <th>default</th>\n",
       "    </tr>\n",
       "  </thead>\n",
       "  <tbody>\n",
       "    <tr>\n",
       "      <th>CCC(=O)Nc1[cH:1][c:2](ccn1)[NH:3][CH2:4]C</th>\n",
       "      <td>TorsionDriveRecord(id='3745357', status='COMPL...</td>\n",
       "    </tr>\n",
       "    <tr>\n",
       "      <th>CCCNc1cc[c:2]([cH:1]n1)[N:3](C)[CH3:4]</th>\n",
       "      <td>TorsionDriveRecord(id='3745358', status='COMPL...</td>\n",
       "    </tr>\n",
       "    <tr>\n",
       "      <th>CCCNc1cc[c:2]([cH:1]n1)[O:3][CH2:4]C</th>\n",
       "      <td>TorsionDriveRecord(id='3745359', status='COMPL...</td>\n",
       "    </tr>\n",
       "    <tr>\n",
       "      <th>CCCNc1ccc[c:2]([cH:1]1)[N:3]([CH3:4])C</th>\n",
       "      <td>TorsionDriveRecord(id='3745360', status='COMPL...</td>\n",
       "    </tr>\n",
       "    <tr>\n",
       "      <th>CCCNc1ccc[c:2]([cH:1]1)[NH:3][CH3:4]</th>\n",
       "      <td>TorsionDriveRecord(id='3745361', status='COMPL...</td>\n",
       "    </tr>\n",
       "    <tr>\n",
       "      <th>...</th>\n",
       "      <td>...</td>\n",
       "    </tr>\n",
       "    <tr>\n",
       "      <th>c1[cH:1][c:2](c(cc1O)Cl)[c:4]2[cH:3]c[nH+]cc2</th>\n",
       "      <td>TorsionDriveRecord(id='19953579', status='COMP...</td>\n",
       "    </tr>\n",
       "    <tr>\n",
       "      <th>c1[cH:1][c:2](c(cc1O)Cl)[c:4]2[cH:3]cncc2</th>\n",
       "      <td>TorsionDriveRecord(id='19953580', status='COMP...</td>\n",
       "    </tr>\n",
       "    <tr>\n",
       "      <th>c1[cH:1][c:2](c(cc1[O-])Cl)[c:4]2[cH:3]c[nH+]cc2</th>\n",
       "      <td>TorsionDriveRecord(id='19953581', status='COMP...</td>\n",
       "    </tr>\n",
       "    <tr>\n",
       "      <th>c1[cH:1][c:2](c(cc1[O-])Cl)[c:4]2[cH:3]cncc2</th>\n",
       "      <td>TorsionDriveRecord(id='19953582', status='ERROR')</td>\n",
       "    </tr>\n",
       "    <tr>\n",
       "      <th>c1ccc([c:2]([cH:1]1)[c:3]2[cH:4]cncc2)Cl</th>\n",
       "      <td>TorsionDriveRecord(id='19953583', status='COMP...</td>\n",
       "    </tr>\n",
       "  </tbody>\n",
       "</table>\n",
       "<p>159 rows × 1 columns</p>\n",
       "</div>"
      ],
      "text/plain": [
       "                                                                                            default\n",
       "CCC(=O)Nc1[cH:1][c:2](ccn1)[NH:3][CH2:4]C         TorsionDriveRecord(id='3745357', status='COMPL...\n",
       "CCCNc1cc[c:2]([cH:1]n1)[N:3](C)[CH3:4]            TorsionDriveRecord(id='3745358', status='COMPL...\n",
       "CCCNc1cc[c:2]([cH:1]n1)[O:3][CH2:4]C              TorsionDriveRecord(id='3745359', status='COMPL...\n",
       "CCCNc1ccc[c:2]([cH:1]1)[N:3]([CH3:4])C            TorsionDriveRecord(id='3745360', status='COMPL...\n",
       "CCCNc1ccc[c:2]([cH:1]1)[NH:3][CH3:4]              TorsionDriveRecord(id='3745361', status='COMPL...\n",
       "...                                                                                             ...\n",
       "c1[cH:1][c:2](c(cc1O)Cl)[c:4]2[cH:3]c[nH+]cc2     TorsionDriveRecord(id='19953579', status='COMP...\n",
       "c1[cH:1][c:2](c(cc1O)Cl)[c:4]2[cH:3]cncc2         TorsionDriveRecord(id='19953580', status='COMP...\n",
       "c1[cH:1][c:2](c(cc1[O-])Cl)[c:4]2[cH:3]c[nH+]cc2  TorsionDriveRecord(id='19953581', status='COMP...\n",
       "c1[cH:1][c:2](c(cc1[O-])Cl)[c:4]2[cH:3]cncc2      TorsionDriveRecord(id='19953582', status='ERROR')\n",
       "c1ccc([c:2]([cH:1]1)[c:3]2[cH:4]cncc2)Cl          TorsionDriveRecord(id='19953583', status='COMP...\n",
       "\n",
       "[159 rows x 1 columns]"
      ]
     },
     "execution_count": 9,
     "metadata": {},
     "output_type": "execute_result"
    }
   ],
   "source": [
    "ds.df"
   ]
  },
  {
   "cell_type": "markdown",
   "metadata": {},
   "source": [
    "## Problem cases"
   ]
  },
  {
   "cell_type": "markdown",
   "metadata": {},
   "source": [
    "From the 'OpenFF Substituted Phenyl Set 1' : job index `c1[cH:1]c:2[c:4]2[cH:3]cncc2` , job id:\n",
    "\n",
    "```\n",
    "TorsionDriveRecord(id='19953582', status='ERROR') . Two optimizations failed with the following Error messages: ComputeError(error_type='BrokenProcessPool', error_message='Caught Executor Error:\\nTraceback (most recent call last):\\n  File \"/opt/conda/envs/qcfractal/lib/python3.6/site-packages/qcfractal/queue/executor_adapter.py\", line 15, in _get_future\\n    return future.result()\\n  File \"/opt/conda/envs/qcfractal/lib/python3.6/concurrent/futures/_base.py\", line 425, in result\\n    return self.__get_result()\\n  File \"/opt/conda/envs/qcfractal/lib/python3.6/concurrent/futures/_base.py\", line 384, in __get_result\\n    raise self._exception\\nconcurrent.futures.process.BrokenProcessPool: A process in the process pool was terminated abruptly while the future was running or pending.\\n')\n",
    "```"
   ]
  },
  {
   "cell_type": "code",
   "execution_count": 10,
   "metadata": {},
   "outputs": [
    {
     "data": {
      "text/plain": [
       "[TorsionDriveRecord(id='3745388', status='ERROR'),\n",
       " TorsionDriveRecord(id='3745481', status='ERROR'),\n",
       " TorsionDriveRecord(id='3745569', status='ERROR'),\n",
       " TorsionDriveRecord(id='19953582', status='ERROR')]"
      ]
     },
     "execution_count": 10,
     "metadata": {},
     "output_type": "execute_result"
    }
   ],
   "source": [
    "erred = [i for i in ds.df.default.values if i.status == 'ERROR']\n",
    "erred"
   ]
  },
  {
   "cell_type": "markdown",
   "metadata": {},
   "source": [
    "Start with the last one:"
   ]
  },
  {
   "cell_type": "code",
   "execution_count": 11,
   "metadata": {},
   "outputs": [
    {
     "data": {
      "text/plain": [
       "TorsionDriveRecord(id='19953582', status='ERROR')"
      ]
     },
     "execution_count": 11,
     "metadata": {},
     "output_type": "execute_result"
    }
   ],
   "source": [
    "tdr = erred[-1]\n",
    "tdr"
   ]
  },
  {
   "cell_type": "code",
   "execution_count": 31,
   "metadata": {},
   "outputs": [
    {
     "name": "stderr",
     "output_type": "stream",
     "text": [
      "<ipython-input-31-f065da984fd2>:1: DeprecationWarning: `fields` attribute is deprecated, use `__fields__` instead\n",
      "  tdr.fields\n"
     ]
    },
    {
     "data": {
      "text/plain": [
       "{'client': ModelField(name='client', type=Optional[Any], required=False, default=None),\n",
       " 'cache': ModelField(name='cache', type=Mapping[str, Any], required=False, default={}),\n",
       " 'id': ModelField(name='id', type=Optional[ObjectId], required=False, default=None),\n",
       " 'hash_index': ModelField(name='hash_index', type=Optional[str], required=False, default=None),\n",
       " 'procedure': ModelField(name='procedure', type=ConstrainedStrValue, required=False, default='torsiondrive'),\n",
       " 'program': ModelField(name='program', type=ConstrainedStrValue, required=False, default='torsiondrive'),\n",
       " 'version': ModelField(name='version', type=int, required=False, default=1),\n",
       " 'protocols': ModelField(name='protocols', type=Optional[Mapping[str, Any]], required=False, default=None),\n",
       " 'extras': ModelField(name='extras', type=Mapping[str, Any], required=False, default={}),\n",
       " 'stdout': ModelField(name='stdout', type=Optional[ObjectId], required=False, default=None),\n",
       " 'stderr': ModelField(name='stderr', type=Optional[ObjectId], required=False, default=None),\n",
       " 'error': ModelField(name='error', type=Optional[ObjectId], required=False, default=None),\n",
       " 'task_id': ModelField(name='task_id', type=Optional[ObjectId], required=False, default=None),\n",
       " 'manager_name': ModelField(name='manager_name', type=Optional[str], required=False, default=None),\n",
       " 'status': ModelField(name='status', type=str, required=False, default=<RecordStatusEnum.incomplete: 'INCOMPLETE'>),\n",
       " 'modified_on': ModelField(name='modified_on', type=Optional[datetime], required=False, default=None),\n",
       " 'created_on': ModelField(name='created_on', type=Optional[datetime], required=False, default=None),\n",
       " 'provenance': ModelField(name='provenance', type=Optional[Provenance], required=False, default=None),\n",
       " 'initial_molecule': ModelField(name='initial_molecule', type=List[ObjectId], required=True),\n",
       " 'keywords': ModelField(name='keywords', type=TDKeywords, required=True),\n",
       " 'optimization_spec': ModelField(name='optimization_spec', type=OptimizationSpecification, required=True),\n",
       " 'qc_spec': ModelField(name='qc_spec', type=QCSpecification, required=True),\n",
       " 'final_energy_dict': ModelField(name='final_energy_dict', type=Mapping[str, float], required=True),\n",
       " 'optimization_history': ModelField(name='optimization_history', type=Mapping[str, List[qcportal.models.common_models.ObjectId]], required=True),\n",
       " 'minimum_positions': ModelField(name='minimum_positions', type=Mapping[str, int], required=True)}"
      ]
     },
     "execution_count": 31,
     "metadata": {},
     "output_type": "execute_result"
    }
   ],
   "source": [
    "tdr.fields"
   ]
  },
  {
   "cell_type": "code",
   "execution_count": 32,
   "metadata": {},
   "outputs": [
    {
     "data": {
      "text/plain": [
       "['13536786']"
      ]
     },
     "execution_count": 32,
     "metadata": {},
     "output_type": "execute_result"
    }
   ],
   "source": [
    "tdr."
   ]
  },
  {
   "cell_type": "code",
   "execution_count": 16,
   "metadata": {},
   "outputs": [],
   "source": [
    "tdr.get_stdout()"
   ]
  },
  {
   "cell_type": "code",
   "execution_count": 12,
   "metadata": {},
   "outputs": [
    {
     "data": {
      "text/plain": [
       "'19953582'"
      ]
     },
     "execution_count": 12,
     "metadata": {},
     "output_type": "execute_result"
    }
   ],
   "source": [
    "tdr.id"
   ]
  },
  {
   "cell_type": "code",
   "execution_count": 33,
   "metadata": {},
   "outputs": [
    {
     "data": {
      "text/plain": [
       "Data(n_updated=1)"
      ]
     },
     "execution_count": 33,
     "metadata": {},
     "output_type": "execute_result"
    }
   ],
   "source": [
    "client.modify_services(operation='restart', procedure_id=tdr.id)"
   ]
  },
  {
   "cell_type": "code",
   "execution_count": 36,
   "metadata": {},
   "outputs": [],
   "source": [
    "ds = client.get_collection(\"TorsionDriveDataset\", dataset)"
   ]
  },
  {
   "cell_type": "code",
   "execution_count": 37,
   "metadata": {},
   "outputs": [
    {
     "data": {
      "text/html": [
       "<div>\n",
       "<style scoped>\n",
       "    .dataframe tbody tr th:only-of-type {\n",
       "        vertical-align: middle;\n",
       "    }\n",
       "\n",
       "    .dataframe tbody tr th {\n",
       "        vertical-align: top;\n",
       "    }\n",
       "\n",
       "    .dataframe thead th {\n",
       "        text-align: right;\n",
       "    }\n",
       "</style>\n",
       "<table border=\"1\" class=\"dataframe\">\n",
       "  <thead>\n",
       "    <tr style=\"text-align: right;\">\n",
       "      <th></th>\n",
       "      <th>Description</th>\n",
       "    </tr>\n",
       "    <tr>\n",
       "      <th>Name</th>\n",
       "      <th></th>\n",
       "    </tr>\n",
       "  </thead>\n",
       "  <tbody>\n",
       "    <tr>\n",
       "      <th>default</th>\n",
       "      <td>Standard OpenFF torsiondrive specification.</td>\n",
       "    </tr>\n",
       "  </tbody>\n",
       "</table>\n",
       "</div>"
      ],
      "text/plain": [
       "                                         Description\n",
       "Name                                                \n",
       "default  Standard OpenFF torsiondrive specification."
      ]
     },
     "execution_count": 37,
     "metadata": {},
     "output_type": "execute_result"
    }
   ],
   "source": [
    "ds.list_specifications()"
   ]
  },
  {
   "cell_type": "markdown",
   "metadata": {},
   "source": [
    "'default' always means 'b3lyp-d3bj' for us."
   ]
  },
  {
   "cell_type": "code",
   "execution_count": 39,
   "metadata": {},
   "outputs": [
    {
     "data": {
      "text/html": [
       "<div>\n",
       "<style scoped>\n",
       "    .dataframe tbody tr th:only-of-type {\n",
       "        vertical-align: middle;\n",
       "    }\n",
       "\n",
       "    .dataframe tbody tr th {\n",
       "        vertical-align: top;\n",
       "    }\n",
       "\n",
       "    .dataframe thead th {\n",
       "        text-align: right;\n",
       "    }\n",
       "</style>\n",
       "<table border=\"1\" class=\"dataframe\">\n",
       "  <thead>\n",
       "    <tr style=\"text-align: right;\">\n",
       "      <th></th>\n",
       "      <th>default</th>\n",
       "    </tr>\n",
       "  </thead>\n",
       "  <tbody>\n",
       "    <tr>\n",
       "      <th>COMPLETE</th>\n",
       "      <td>155</td>\n",
       "    </tr>\n",
       "    <tr>\n",
       "      <th>ERROR</th>\n",
       "      <td>3</td>\n",
       "    </tr>\n",
       "    <tr>\n",
       "      <th>RUNNING</th>\n",
       "      <td>1</td>\n",
       "    </tr>\n",
       "  </tbody>\n",
       "</table>\n",
       "</div>"
      ],
      "text/plain": [
       "          default\n",
       "COMPLETE      155\n",
       "ERROR           3\n",
       "RUNNING         1"
      ]
     },
     "execution_count": 39,
     "metadata": {},
     "output_type": "execute_result"
    }
   ],
   "source": [
    "ds.status(\"default\")"
   ]
  },
  {
   "cell_type": "code",
   "execution_count": 40,
   "metadata": {},
   "outputs": [
    {
     "data": {
      "text/html": [
       "<div>\n",
       "<style scoped>\n",
       "    .dataframe tbody tr th:only-of-type {\n",
       "        vertical-align: middle;\n",
       "    }\n",
       "\n",
       "    .dataframe tbody tr th {\n",
       "        vertical-align: top;\n",
       "    }\n",
       "\n",
       "    .dataframe thead th {\n",
       "        text-align: right;\n",
       "    }\n",
       "</style>\n",
       "<table border=\"1\" class=\"dataframe\">\n",
       "  <thead>\n",
       "    <tr style=\"text-align: right;\">\n",
       "      <th></th>\n",
       "      <th>default</th>\n",
       "    </tr>\n",
       "  </thead>\n",
       "  <tbody>\n",
       "    <tr>\n",
       "      <th>CCC(=O)Nc1[cH:1][c:2](ccn1)[NH:3][CH2:4]C</th>\n",
       "      <td>TorsionDriveRecord(id='3745357', status='COMPL...</td>\n",
       "    </tr>\n",
       "    <tr>\n",
       "      <th>CCCNc1cc[c:2]([cH:1]n1)[N:3](C)[CH3:4]</th>\n",
       "      <td>TorsionDriveRecord(id='3745358', status='COMPL...</td>\n",
       "    </tr>\n",
       "    <tr>\n",
       "      <th>CCCNc1cc[c:2]([cH:1]n1)[O:3][CH2:4]C</th>\n",
       "      <td>TorsionDriveRecord(id='3745359', status='COMPL...</td>\n",
       "    </tr>\n",
       "    <tr>\n",
       "      <th>CCCNc1ccc[c:2]([cH:1]1)[N:3]([CH3:4])C</th>\n",
       "      <td>TorsionDriveRecord(id='3745360', status='COMPL...</td>\n",
       "    </tr>\n",
       "    <tr>\n",
       "      <th>CCCNc1ccc[c:2]([cH:1]1)[NH:3][CH3:4]</th>\n",
       "      <td>TorsionDriveRecord(id='3745361', status='COMPL...</td>\n",
       "    </tr>\n",
       "    <tr>\n",
       "      <th>...</th>\n",
       "      <td>...</td>\n",
       "    </tr>\n",
       "    <tr>\n",
       "      <th>c1[cH:1][c:2](c(cc1O)Cl)[c:4]2[cH:3]c[nH+]cc2</th>\n",
       "      <td>TorsionDriveRecord(id='19953579', status='COMP...</td>\n",
       "    </tr>\n",
       "    <tr>\n",
       "      <th>c1[cH:1][c:2](c(cc1O)Cl)[c:4]2[cH:3]cncc2</th>\n",
       "      <td>TorsionDriveRecord(id='19953580', status='COMP...</td>\n",
       "    </tr>\n",
       "    <tr>\n",
       "      <th>c1[cH:1][c:2](c(cc1[O-])Cl)[c:4]2[cH:3]c[nH+]cc2</th>\n",
       "      <td>TorsionDriveRecord(id='19953581', status='COMP...</td>\n",
       "    </tr>\n",
       "    <tr>\n",
       "      <th>c1[cH:1][c:2](c(cc1[O-])Cl)[c:4]2[cH:3]cncc2</th>\n",
       "      <td>TorsionDriveRecord(id='19953582', status='RUNN...</td>\n",
       "    </tr>\n",
       "    <tr>\n",
       "      <th>c1ccc([c:2]([cH:1]1)[c:3]2[cH:4]cncc2)Cl</th>\n",
       "      <td>TorsionDriveRecord(id='19953583', status='COMP...</td>\n",
       "    </tr>\n",
       "  </tbody>\n",
       "</table>\n",
       "<p>159 rows × 1 columns</p>\n",
       "</div>"
      ],
      "text/plain": [
       "                                                                                            default\n",
       "CCC(=O)Nc1[cH:1][c:2](ccn1)[NH:3][CH2:4]C         TorsionDriveRecord(id='3745357', status='COMPL...\n",
       "CCCNc1cc[c:2]([cH:1]n1)[N:3](C)[CH3:4]            TorsionDriveRecord(id='3745358', status='COMPL...\n",
       "CCCNc1cc[c:2]([cH:1]n1)[O:3][CH2:4]C              TorsionDriveRecord(id='3745359', status='COMPL...\n",
       "CCCNc1ccc[c:2]([cH:1]1)[N:3]([CH3:4])C            TorsionDriveRecord(id='3745360', status='COMPL...\n",
       "CCCNc1ccc[c:2]([cH:1]1)[NH:3][CH3:4]              TorsionDriveRecord(id='3745361', status='COMPL...\n",
       "...                                                                                             ...\n",
       "c1[cH:1][c:2](c(cc1O)Cl)[c:4]2[cH:3]c[nH+]cc2     TorsionDriveRecord(id='19953579', status='COMP...\n",
       "c1[cH:1][c:2](c(cc1O)Cl)[c:4]2[cH:3]cncc2         TorsionDriveRecord(id='19953580', status='COMP...\n",
       "c1[cH:1][c:2](c(cc1[O-])Cl)[c:4]2[cH:3]c[nH+]cc2  TorsionDriveRecord(id='19953581', status='COMP...\n",
       "c1[cH:1][c:2](c(cc1[O-])Cl)[c:4]2[cH:3]cncc2      TorsionDriveRecord(id='19953582', status='RUNN...\n",
       "c1ccc([c:2]([cH:1]1)[c:3]2[cH:4]cncc2)Cl          TorsionDriveRecord(id='19953583', status='COMP...\n",
       "\n",
       "[159 rows x 1 columns]"
      ]
     },
     "execution_count": 40,
     "metadata": {},
     "output_type": "execute_result"
    }
   ],
   "source": [
    "ds.df"
   ]
  }
 ],
 "metadata": {
  "kernelspec": {
   "display_name": "Python 3",
   "language": "python",
   "name": "python3"
  },
  "language_info": {
   "codemirror_mode": {
    "name": "ipython",
    "version": 3
   },
   "file_extension": ".py",
   "mimetype": "text/x-python",
   "name": "python",
   "nbconvert_exporter": "python",
   "pygments_lexer": "ipython3",
   "version": "3.8.2"
  }
 },
 "nbformat": 4,
 "nbformat_minor": 4
}
