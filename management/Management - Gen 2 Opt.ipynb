{
 "cells": [
  {
   "cell_type": "markdown",
   "metadata": {},
   "source": [
    "# Management - Gen 2 Opt"
   ]
  },
  {
   "cell_type": "code",
   "execution_count": 1,
   "metadata": {},
   "outputs": [],
   "source": [
    "import qcportal as ptl\n",
    "import pandas as pd\n",
    "import datetime\n",
    "import time\n",
    "\n",
    "from management import get_failed_optimizations"
   ]
  },
  {
   "cell_type": "code",
   "execution_count": 2,
   "metadata": {},
   "outputs": [],
   "source": [
    "# connect without auth\n",
    "# read only\n",
    "client = ptl.FractalClient()"
   ]
  },
  {
   "cell_type": "code",
   "execution_count": 2,
   "metadata": {},
   "outputs": [],
   "source": [
    "# connect with authentication, therefore write access\n",
    "# don't use unless you plan to submit things\n",
    "client = ptl.FractalClient.from_file()"
   ]
  },
  {
   "cell_type": "code",
   "execution_count": 3,
   "metadata": {},
   "outputs": [
    {
     "data": {
      "text/html": [
       "\n",
       "<h3>FractalClient</h3>\n",
       "<ul>\n",
       "  <li><b>Server:   &nbsp; </b>The MolSSI QCArchive Server</li>\n",
       "  <li><b>Address:  &nbsp; </b>https://api.qcarchive.molssi.org:443/</li>\n",
       "  <li><b>Username: &nbsp; </b>ddotson</li>\n",
       "</ul>\n"
      ],
      "text/plain": [
       "FractalClient(server_name='The MolSSI QCArchive Server', address='https://api.qcarchive.molssi.org:443/', username='ddotson')"
      ]
     },
     "execution_count": 3,
     "metadata": {},
     "output_type": "execute_result"
    }
   ],
   "source": [
    "client"
   ]
  },
  {
   "cell_type": "markdown",
   "metadata": {},
   "source": [
    "## Dataset tracking - OpenFF Gen 2 Opt Set 4 eMolecules Discrepancy"
   ]
  },
  {
   "cell_type": "code",
   "execution_count": 31,
   "metadata": {},
   "outputs": [],
   "source": [
    "dataset = \"OpenFF Gen 2 Opt Set 4 eMolecules Discrepancy\""
   ]
  },
  {
   "cell_type": "code",
   "execution_count": 32,
   "metadata": {},
   "outputs": [],
   "source": [
    "ds = client.get_collection(\"OptimizationDataset\", dataset)"
   ]
  },
  {
   "cell_type": "code",
   "execution_count": 33,
   "metadata": {},
   "outputs": [
    {
     "data": {
      "text/html": [
       "<div>\n",
       "<style scoped>\n",
       "    .dataframe tbody tr th:only-of-type {\n",
       "        vertical-align: middle;\n",
       "    }\n",
       "\n",
       "    .dataframe tbody tr th {\n",
       "        vertical-align: top;\n",
       "    }\n",
       "\n",
       "    .dataframe thead th {\n",
       "        text-align: right;\n",
       "    }\n",
       "</style>\n",
       "<table border=\"1\" class=\"dataframe\">\n",
       "  <thead>\n",
       "    <tr style=\"text-align: right;\">\n",
       "      <th></th>\n",
       "      <th>Description</th>\n",
       "    </tr>\n",
       "    <tr>\n",
       "      <th>Name</th>\n",
       "      <th></th>\n",
       "    </tr>\n",
       "  </thead>\n",
       "  <tbody>\n",
       "    <tr>\n",
       "      <th>default</th>\n",
       "      <td>Standard OpenFF optimization quantum chemistry...</td>\n",
       "    </tr>\n",
       "  </tbody>\n",
       "</table>\n",
       "</div>"
      ],
      "text/plain": [
       "                                               Description\n",
       "Name                                                      \n",
       "default  Standard OpenFF optimization quantum chemistry..."
      ]
     },
     "execution_count": 33,
     "metadata": {},
     "output_type": "execute_result"
    }
   ],
   "source": [
    "ds.list_specifications()"
   ]
  },
  {
   "cell_type": "code",
   "execution_count": 35,
   "metadata": {},
   "outputs": [
    {
     "data": {
      "text/html": [
       "<div>\n",
       "<style scoped>\n",
       "    .dataframe tbody tr th:only-of-type {\n",
       "        vertical-align: middle;\n",
       "    }\n",
       "\n",
       "    .dataframe tbody tr th {\n",
       "        vertical-align: top;\n",
       "    }\n",
       "\n",
       "    .dataframe thead th {\n",
       "        text-align: right;\n",
       "    }\n",
       "</style>\n",
       "<table border=\"1\" class=\"dataframe\">\n",
       "  <thead>\n",
       "    <tr style=\"text-align: right;\">\n",
       "      <th></th>\n",
       "      <th>default</th>\n",
       "    </tr>\n",
       "  </thead>\n",
       "  <tbody>\n",
       "    <tr>\n",
       "      <th>COMPLETE</th>\n",
       "      <td>2196</td>\n",
       "    </tr>\n",
       "    <tr>\n",
       "      <th>ERROR</th>\n",
       "      <td>5</td>\n",
       "    </tr>\n",
       "  </tbody>\n",
       "</table>\n",
       "</div>"
      ],
      "text/plain": [
       "          default\n",
       "COMPLETE     2196\n",
       "ERROR           5"
      ]
     },
     "execution_count": 35,
     "metadata": {},
     "output_type": "execute_result"
    }
   ],
   "source": [
    "ds.status(\"default\")"
   ]
  },
  {
   "cell_type": "code",
   "execution_count": 36,
   "metadata": {},
   "outputs": [],
   "source": [
    "res = get_failed_optimizations(ds, 'default', client)"
   ]
  },
  {
   "cell_type": "code",
   "execution_count": 38,
   "metadata": {},
   "outputs": [
    {
     "name": "stdout",
     "output_type": "stream",
     "text": [
      "18436178\n",
      "18437465\n",
      "18437470\n",
      "18438079\n",
      "18438248\n"
     ]
    }
   ],
   "source": [
    "for i in sorted([i.id for i in res if i.status != 'COMPLETE']):\n",
    "    print(i)"
   ]
  },
  {
   "cell_type": "code",
   "execution_count": 46,
   "metadata": {},
   "outputs": [],
   "source": [
    "errors = (i.get_error().error_message for i in res if i.status == 'ERROR')"
   ]
  },
  {
   "cell_type": "code",
   "execution_count": 51,
   "metadata": {},
   "outputs": [
    {
     "name": "stdout",
     "output_type": "stream",
     "text": [
      "geomeTRIC run_json error:\n",
      "Traceback (most recent call last):\n",
      "  File \"/opt/conda/envs/qcfractal/lib/python3.6/site-packages/geometric/run_json.py\", line 214, in geometric_run_json\n",
      "    geometric.optimize.Optimize(coords, M, IC, engine, None, params)\n",
      "  File \"/opt/conda/envs/qcfractal/lib/python3.6/site-packages/geometric/optimize.py\", line 1331, in Optimize\n",
      "    return optimizer.optimizeGeometry()\n",
      "  File \"/opt/conda/envs/qcfractal/lib/python3.6/site-packages/geometric/optimize.py\", line 1301, in optimizeGeometry\n",
      "    raise GeomOptNotConvergedError(\"Optimizer.optimizeGeometry() failed to converge.\")\n",
      "geometric.errors.GeomOptNotConvergedError: Optimizer.optimizeGeometry() failed to converge.\n",
      "\n"
     ]
    }
   ],
   "source": [
    "print(next(errors))"
   ]
  },
  {
   "cell_type": "markdown",
   "metadata": {},
   "source": [
    "For convergence errors, if we can look at the initial and final molecules in NGLview, can give indications as to why:"
   ]
  },
  {
   "cell_type": "code",
   "execution_count": 57,
   "metadata": {},
   "outputs": [],
   "source": [
    "opt = res[0]"
   ]
  },
  {
   "cell_type": "code",
   "execution_count": 58,
   "metadata": {},
   "outputs": [
    {
     "data": {
      "application/vnd.jupyter.widget-view+json": {
       "model_id": "83d83322f51c4e10bf6e5629a25c04de",
       "version_major": 2,
       "version_minor": 0
      },
      "text/plain": [
       "_ColormakerRegistry()"
      ]
     },
     "metadata": {},
     "output_type": "display_data"
    },
    {
     "data": {
      "application/vnd.jupyter.widget-view+json": {
       "model_id": "f6353838372d4834ae130d69d4977f1e",
       "version_major": 2,
       "version_minor": 0
      },
      "text/plain": [
       "NGLWidget()"
      ]
     },
     "metadata": {},
     "output_type": "display_data"
    }
   ],
   "source": [
    "opt.get_initial_molecule()"
   ]
  },
  {
   "cell_type": "code",
   "execution_count": 60,
   "metadata": {},
   "outputs": [
    {
     "data": {
      "application/vnd.jupyter.widget-view+json": {
       "model_id": "4253cb7f8f8e4715b012d5cf0065d786",
       "version_major": 2,
       "version_minor": 0
      },
      "text/plain": [
       "NGLWidget()"
      ]
     },
     "metadata": {},
     "output_type": "display_data"
    }
   ],
   "source": [
    "opt.get_final_molecule()"
   ]
  },
  {
   "cell_type": "markdown",
   "metadata": {},
   "source": [
    "All of these are convergence failures."
   ]
  },
  {
   "cell_type": "markdown",
   "metadata": {},
   "source": [
    "## Dataset tracking - OpenFF Gen 2 Opt Set 2 Coverage"
   ]
  },
  {
   "cell_type": "code",
   "execution_count": 53,
   "metadata": {},
   "outputs": [],
   "source": [
    "dataset = \"OpenFF Gen 2 Opt Set 2 Coverage\""
   ]
  },
  {
   "cell_type": "code",
   "execution_count": 54,
   "metadata": {},
   "outputs": [],
   "source": [
    "ds = client.get_collection(\"OptimizationDataset\", dataset)"
   ]
  },
  {
   "cell_type": "code",
   "execution_count": 55,
   "metadata": {},
   "outputs": [
    {
     "data": {
      "text/html": [
       "<div>\n",
       "<style scoped>\n",
       "    .dataframe tbody tr th:only-of-type {\n",
       "        vertical-align: middle;\n",
       "    }\n",
       "\n",
       "    .dataframe tbody tr th {\n",
       "        vertical-align: top;\n",
       "    }\n",
       "\n",
       "    .dataframe thead th {\n",
       "        text-align: right;\n",
       "    }\n",
       "</style>\n",
       "<table border=\"1\" class=\"dataframe\">\n",
       "  <thead>\n",
       "    <tr style=\"text-align: right;\">\n",
       "      <th></th>\n",
       "      <th>Description</th>\n",
       "    </tr>\n",
       "    <tr>\n",
       "      <th>Name</th>\n",
       "      <th></th>\n",
       "    </tr>\n",
       "  </thead>\n",
       "  <tbody>\n",
       "    <tr>\n",
       "      <th>default</th>\n",
       "      <td>Standard OpenFF optimization quantum chemistry...</td>\n",
       "    </tr>\n",
       "  </tbody>\n",
       "</table>\n",
       "</div>"
      ],
      "text/plain": [
       "                                               Description\n",
       "Name                                                      \n",
       "default  Standard OpenFF optimization quantum chemistry..."
      ]
     },
     "execution_count": 55,
     "metadata": {},
     "output_type": "execute_result"
    }
   ],
   "source": [
    "ds.list_specifications()"
   ]
  },
  {
   "cell_type": "code",
   "execution_count": 57,
   "metadata": {},
   "outputs": [
    {
     "data": {
      "text/html": [
       "<div>\n",
       "<style scoped>\n",
       "    .dataframe tbody tr th:only-of-type {\n",
       "        vertical-align: middle;\n",
       "    }\n",
       "\n",
       "    .dataframe tbody tr th {\n",
       "        vertical-align: top;\n",
       "    }\n",
       "\n",
       "    .dataframe thead th {\n",
       "        text-align: right;\n",
       "    }\n",
       "</style>\n",
       "<table border=\"1\" class=\"dataframe\">\n",
       "  <thead>\n",
       "    <tr style=\"text-align: right;\">\n",
       "      <th></th>\n",
       "      <th>default</th>\n",
       "    </tr>\n",
       "  </thead>\n",
       "  <tbody>\n",
       "    <tr>\n",
       "      <th>COMPLETE</th>\n",
       "      <td>359</td>\n",
       "    </tr>\n",
       "    <tr>\n",
       "      <th>INCOMPLETE</th>\n",
       "      <td>10</td>\n",
       "    </tr>\n",
       "    <tr>\n",
       "      <th>ERROR</th>\n",
       "      <td>4</td>\n",
       "    </tr>\n",
       "  </tbody>\n",
       "</table>\n",
       "</div>"
      ],
      "text/plain": [
       "            default\n",
       "COMPLETE        359\n",
       "INCOMPLETE       10\n",
       "ERROR             4"
      ]
     },
     "execution_count": 57,
     "metadata": {},
     "output_type": "execute_result"
    }
   ],
   "source": [
    "ds.status(\"default\")"
   ]
  },
  {
   "cell_type": "code",
   "execution_count": 58,
   "metadata": {},
   "outputs": [],
   "source": [
    "res = get_failed_optimizations(ds, 'default', client)"
   ]
  },
  {
   "cell_type": "code",
   "execution_count": 59,
   "metadata": {},
   "outputs": [
    {
     "data": {
      "text/plain": [
       "[OptimizationRecord(id='18433828', status='ERROR'),\n",
       " OptimizationRecord(id='18433929', status='INCOMPLETE'),\n",
       " OptimizationRecord(id='18433930', status='INCOMPLETE'),\n",
       " OptimizationRecord(id='18433937', status='INCOMPLETE'),\n",
       " OptimizationRecord(id='18433944', status='INCOMPLETE'),\n",
       " OptimizationRecord(id='18433984', status='INCOMPLETE'),\n",
       " OptimizationRecord(id='18433988', status='INCOMPLETE'),\n",
       " OptimizationRecord(id='18434010', status='INCOMPLETE'),\n",
       " OptimizationRecord(id='18434013', status='INCOMPLETE'),\n",
       " OptimizationRecord(id='18434015', status='INCOMPLETE'),\n",
       " OptimizationRecord(id='18434075', status='INCOMPLETE'),\n",
       " OptimizationRecord(id='18434085', status='ERROR'),\n",
       " OptimizationRecord(id='18434088', status='ERROR'),\n",
       " OptimizationRecord(id='18434121', status='ERROR')]"
      ]
     },
     "execution_count": 59,
     "metadata": {},
     "output_type": "execute_result"
    }
   ],
   "source": [
    "[i for i in res if i.status != 'COMPLETE']"
   ]
  },
  {
   "cell_type": "code",
   "execution_count": 80,
   "metadata": {},
   "outputs": [],
   "source": [
    "errors = ((i.id, i.get_error().error_message) for i in res if i.status == 'ERROR')"
   ]
  },
  {
   "cell_type": "code",
   "execution_count": 81,
   "metadata": {},
   "outputs": [
    {
     "name": "stdout",
     "output_type": "stream",
     "text": [
      "18433828\n",
      "18434085\n",
      "18434088\n",
      "18434121\n"
     ]
    }
   ],
   "source": [
    "for i in errors:\n",
    "    print(i[0])"
   ]
  },
  {
   "cell_type": "code",
   "execution_count": 79,
   "metadata": {},
   "outputs": [
    {
     "name": "stdout",
     "output_type": "stream",
     "text": [
      "geomeTRIC run_json error:\n",
      "Traceback (most recent call last):\n",
      "  File \"/home/bpp4/miniconda3/envs/qca_manager/lib/python3.7/site-packages/geometric/run_json.py\", line 214, in geometric_run_json\n",
      "    geometric.optimize.Optimize(coords, M, IC, engine, None, params)\n",
      "  File \"/home/bpp4/miniconda3/envs/qca_manager/lib/python3.7/site-packages/geometric/optimize.py\", line 1331, in Optimize\n",
      "    return optimizer.optimizeGeometry()\n",
      "  File \"/home/bpp4/miniconda3/envs/qca_manager/lib/python3.7/site-packages/geometric/optimize.py\", line 1298, in optimizeGeometry\n",
      "    self.calcEnergyForce()\n",
      "  File \"/home/bpp4/miniconda3/envs/qca_manager/lib/python3.7/site-packages/geometric/optimize.py\", line 1002, in calcEnergyForce\n",
      "    spcalc = self.engine.calc(self.X, self.dirname)\n",
      "  File \"/home/bpp4/miniconda3/envs/qca_manager/lib/python3.7/site-packages/geometric/engine.py\", line 873, in calc\n",
      "    return self.calc_new(coords, dirname)\n",
      "  File \"/home/bpp4/miniconda3/envs/qca_manager/lib/python3.7/site-packages/geometric/engine.py\", line 865, in calc_new\n",
      "    raise QCEngineAPIEngineError(\"QCEngineAPI computation did not execute correctly. Message: \" + ret[\"error\"][\"error_message\"])\n",
      "geometric.errors.QCEngineAPIEngineError: QCEngineAPI computation did not execute correctly. Message: QCEngine Unknown Error: Traceback (most recent call last):\n",
      "  File \"/home/bpp4/miniconda3/envs/qca_manager/lib//python3.7/site-packages/psi4/driver/schema_wrapper.py\", line 391, in run_qcschema\n",
      "    ret_data = run_json_qcschema(input_model.dict(), clean, False, keep_wfn=keep_wfn)\n",
      "  File \"/home/bpp4/miniconda3/envs/qca_manager/lib//python3.7/site-packages/psi4/driver/schema_wrapper.py\", line 538, in run_json_qcschema\n",
      "    val, wfn = methods_dict_[json_data[\"driver\"]](method, **kwargs)\n",
      "  File \"/home/bpp4/miniconda3/envs/qca_manager/lib//python3.7/site-packages/psi4/driver/driver.py\", line 711, in gradient\n",
      "    wfn = procedures['gradient'][lowername](lowername, molecule=molecule, **kwargs)\n",
      "  File \"/home/bpp4/miniconda3/envs/qca_manager/lib//python3.7/site-packages/psi4/driver/procrouting/proc.py\", line 2310, in run_scf_gradient\n",
      "    ref_wfn = run_scf(name, **kwargs)\n",
      "  File \"/home/bpp4/miniconda3/envs/qca_manager/lib//python3.7/site-packages/psi4/driver/procrouting/proc.py\", line 2215, in run_scf\n",
      "    scf_wfn = scf_helper(name, post_scf=False, **kwargs)\n",
      "  File \"/home/bpp4/miniconda3/envs/qca_manager/lib//python3.7/site-packages/psi4/driver/procrouting/proc.py\", line 1516, in scf_helper\n",
      "    e_scf = scf_wfn.compute_energy()\n",
      "  File \"/home/bpp4/miniconda3/envs/qca_manager/lib//python3.7/site-packages/psi4/driver/procrouting/scf_proc/scf_iterator.py\", line 93, in scf_compute_energy\n",
      "    raise e\n",
      "  File \"/home/bpp4/miniconda3/envs/qca_manager/lib//python3.7/site-packages/psi4/driver/procrouting/scf_proc/scf_iterator.py\", line 86, in scf_compute_energy\n",
      "    self.iterations()\n",
      "  File \"/home/bpp4/miniconda3/envs/qca_manager/lib//python3.7/site-packages/psi4/driver/procrouting/scf_proc/scf_iterator.py\", line 464, in scf_iterate\n",
      "    raise SCFConvergenceError(\"\"\"SCF iterations\"\"\", self.iteration_, self, Ediff, Dnorm)\n",
      "psi4.driver.p4util.exceptions.SCFConvergenceError: Could not converge SCF iterations in 200 iterations.\n",
      "\n",
      "\n"
     ]
    }
   ],
   "source": [
    "print(next(errors)[1])"
   ]
  },
  {
   "cell_type": "markdown",
   "metadata": {},
   "source": [
    "Some convergence errors.\n",
    "Mostly unknown errors."
   ]
  },
  {
   "cell_type": "markdown",
   "metadata": {},
   "source": [
    "Let's try re-running the uknown errors."
   ]
  },
  {
   "cell_type": "code",
   "execution_count": 20,
   "metadata": {},
   "outputs": [],
   "source": [
    "resubmit = [i for i in res if i.status == 'ERROR' and \"Could not converge\" not in i.get_error().error_message]"
   ]
  },
  {
   "cell_type": "code",
   "execution_count": 52,
   "metadata": {},
   "outputs": [
    {
     "name": "stdout",
     "output_type": "stream",
     "text": [
      "18433929\n",
      "18433930\n",
      "18433937\n",
      "18433944\n",
      "18433984\n",
      "18433988\n",
      "18434010\n",
      "18434013\n",
      "18434015\n",
      "18434075\n"
     ]
    }
   ],
   "source": [
    "for i in resubmit:\n",
    "    print(i.id)"
   ]
  },
  {
   "cell_type": "code",
   "execution_count": 23,
   "metadata": {},
   "outputs": [
    {
     "data": {
      "text/plain": [
       "10"
      ]
     },
     "execution_count": 23,
     "metadata": {},
     "output_type": "execute_result"
    }
   ],
   "source": [
    "len(resubmit)"
   ]
  },
  {
   "cell_type": "code",
   "execution_count": 25,
   "metadata": {},
   "outputs": [],
   "source": [
    "for i in resubmit:\n",
    "    client.modify_tasks(operation='restart', base_result=i.id)"
   ]
  },
  {
   "cell_type": "code",
   "execution_count": 26,
   "metadata": {},
   "outputs": [],
   "source": [
    "ds = client.get_collection(\"OptimizationDataset\", dataset)"
   ]
  },
  {
   "cell_type": "code",
   "execution_count": 27,
   "metadata": {},
   "outputs": [],
   "source": [
    "res = get_failed_optimizations(ds, 'default', client)"
   ]
  },
  {
   "cell_type": "code",
   "execution_count": 29,
   "metadata": {},
   "outputs": [
    {
     "data": {
      "text/plain": [
       "4"
      ]
     },
     "execution_count": 29,
     "metadata": {},
     "output_type": "execute_result"
    }
   ],
   "source": [
    "len([i for i in res if i.status == 'ERROR'])"
   ]
  },
  {
   "cell_type": "code",
   "execution_count": 30,
   "metadata": {},
   "outputs": [
    {
     "data": {
      "text/plain": [
       "10"
      ]
     },
     "execution_count": 30,
     "metadata": {},
     "output_type": "execute_result"
    }
   ],
   "source": [
    "len([i for i in res if i.status == 'INCOMPLETE'])"
   ]
  }
 ],
 "metadata": {
  "kernelspec": {
   "display_name": "Python 3",
   "language": "python",
   "name": "python3"
  },
  "language_info": {
   "codemirror_mode": {
    "name": "ipython",
    "version": 3
   },
   "file_extension": ".py",
   "mimetype": "text/x-python",
   "name": "python",
   "nbconvert_exporter": "python",
   "pygments_lexer": "ipython3",
   "version": "3.8.2"
  }
 },
 "nbformat": 4,
 "nbformat_minor": 4
}
