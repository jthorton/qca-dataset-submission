{
 "cells": [
  {
   "cell_type": "code",
   "execution_count": 1,
   "id": "ab39ae9d-b681-46d4-9239-f25548422f0c",
   "metadata": {},
   "outputs": [],
   "source": [
    "from qcportal import PortalClient\n",
    "from qcelemental.models.results import WavefunctionProtocolEnum\n",
    "from openff.qcsubmit.results import OptimizationResultCollection\n",
    "from openff.qcsubmit.datasets import BasicDataset\n",
    "from openff.qcsubmit.results.filters import ConnectivityFilter, ConformerRMSDFilter\n",
    "from openff.qcsubmit.factories import BasicDatasetFactory\n",
    "from openff.qcsubmit.common_structures import Metadata, QCSpec"
   ]
  },
  {
   "cell_type": "markdown",
   "id": "86bea53e-0836-4acf-937a-104ee0787fad",
   "metadata": {},
   "source": [
    "## Downloading Optimization results"
   ]
  },
  {
   "cell_type": "code",
   "execution_count": 2,
   "id": "bee1d2e2-a405-4c13-8a54-bfc60aef72b8",
   "metadata": {},
   "outputs": [],
   "source": [
    "client = PortalClient(\"https://api.qcarchive.molssi.org:443/\")"
   ]
  },
  {
   "cell_type": "code",
   "execution_count": 3,
   "id": "43fc432f-9fe4-4e05-8f63-0af5032ee98f",
   "metadata": {},
   "outputs": [],
   "source": [
    "optimization_results = OptimizationResultCollection.from_server(\n",
    "    client=client,\n",
    "    datasets=[\"OpenFF multi-Br ESP Fragment Conformers v1.0\"],\n",
    "    spec_name=\"HF/6-31G*\"\n",
    ")"
   ]
  },
  {
   "cell_type": "code",
   "execution_count": 4,
   "id": "2cc11eac-98bb-4549-8e41-b3ac974bf564",
   "metadata": {},
   "outputs": [],
   "source": [
    "filtered_records = optimization_results.filter(\n",
    "    ConnectivityFilter(),\n",
    "    ConformerRMSDFilter(rmsd_tolerance=0.05)\n",
    ").to_records()"
   ]
  },
  {
   "cell_type": "markdown",
   "id": "a2b70000-19a9-4f39-93ce-d629d62275c6",
   "metadata": {},
   "source": [
    "## Setting up single point"
   ]
  },
  {
   "cell_type": "code",
   "execution_count": 12,
   "id": "959a9ab6-898b-4570-ac9f-d6d3402afaec",
   "metadata": {},
   "outputs": [],
   "source": [
    "from qcelemental.models import DriverEnum\n",
    "\n",
    "dataset = BasicDataset(\n",
    "    dataset_name=\"OpenFF multi-Br ESP Fragment Conformers v1.1\",\n",
    "    dataset_tagline=\"HF/6-31G* single point calculations of diverse fragment molecules with multiple Br.\",\n",
    "    description=(\n",
    "        \"A dataset containing optimized molecules from the \"\n",
    "        \"`OpenFF multi-Br ESP Fragment Conformers v1.0` optimization. \"\n",
    "    ),\n",
    "    driver=DriverEnum.energy,\n",
    "    metadata=Metadata(\n",
    "        submitter=\"lilyminium\",\n",
    "        long_description_url=(\n",
    "            \"https://github.com/openforcefield/qca-dataset-submission/tree/master/\"\n",
    "            \"submissions/\"\n",
    "            \"2023-11-30-OpenFF-multi-Br-ESP-Fragment-Conformers-v1.1-single-point\"\n",
    "        )\n",
    "    ),\n",
    "    qc_specifications={\n",
    "        \"HF/6-31G*\": QCSpec(\n",
    "            program=\"psi4\",\n",
    "            method=\"hf\",\n",
    "            basis=\"6-31G*\",\n",
    "            spec_name=\"HF/6-31G*\",\n",
    "            spec_description=(\n",
    "                \"The standard HF/6-31G* basis used to derive RESP style charges.\"\n",
    "            ),\n",
    "            store_wavefunction=WavefunctionProtocolEnum.orbitals_and_eigenvalues,\n",
    "        )\n",
    "    }\n",
    ")"
   ]
  },
  {
   "cell_type": "code",
   "execution_count": 13,
   "id": "276e53e9-5415-4a2c-9bbe-e4d1e92a4498",
   "metadata": {},
   "outputs": [
    {
     "data": {
      "text/plain": [
       "{'HF/6-31G*': QCSpecification(program='psi4', driver=<SinglepointDriver.energy: 'energy'>, method='hf', basis='6-31g*', keywords={'maxiter': 200, 'scf_properties': ['dipole', 'quadrupole', 'wiberg_lowdin_indices', 'mayer_indices']}, protocols=AtomicResultProtocols(wavefunction=<WavefunctionProtocolEnum.orbitals_and_eigenvalues: 'orbitals_and_eigenvalues'>, stdout=True, error_correction=ErrorCorrectionProtocol(default_policy=True, policies=None), native_files=<NativeFilesProtocolEnum.none: 'none'>))}"
      ]
     },
     "execution_count": 13,
     "metadata": {},
     "output_type": "execute_result"
    }
   ],
   "source": [
    "dataset._get_specifications()"
   ]
  },
  {
   "cell_type": "code",
   "execution_count": 14,
   "id": "ba54cf37-9ad0-4147-9893-5ef2a45b541b",
   "metadata": {},
   "outputs": [],
   "source": [
    "from collections import defaultdict\n",
    "\n",
    "records_by_cmiles = defaultdict(list)\n",
    "for record, molecule in filtered_records:\n",
    "    records_by_cmiles[\n",
    "        molecule.to_smiles(isomeric=True, explicit_hydrogens=True, mapped=True)\n",
    "    ].append((record, molecule))"
   ]
  },
  {
   "cell_type": "code",
   "execution_count": 15,
   "id": "e9094383-089d-4793-b67d-0b0e21861e0c",
   "metadata": {},
   "outputs": [
    {
     "name": "stderr",
     "output_type": "stream",
     "text": [
      "100%|██████████████████████████████████████████████████████████████████████████████████████████████████| 610/610 [04:13<00:00,  2.41it/s]\n"
     ]
    }
   ],
   "source": [
    "from openff.qcsubmit.common_structures import MoleculeAttributes\n",
    "import tqdm\n",
    "\n",
    "for records in tqdm.tqdm(records_by_cmiles.values(), total=len(records_by_cmiles)):\n",
    "    base_record, base_molecule = records[0]\n",
    "    base_molecule._conformers = [m.conformers[0] for _, m in records]\n",
    "\n",
    "    dataset.add_molecule(\n",
    "        index=base_molecule.to_smiles(\n",
    "            isomeric=True, explicit_hydrogens=False, mapped=False\n",
    "        ),\n",
    "        molecule=base_molecule,\n",
    "        attributes=MoleculeAttributes.from_openff_molecule(base_molecule),\n",
    "        extras=base_record.extras,\n",
    "        keywords=base_record.to_qcschema_result().keywords,\n",
    "    )\n"
   ]
  },
  {
   "cell_type": "markdown",
   "id": "b1367df1-adb8-4ebc-b1da-0475309f59ed",
   "metadata": {},
   "source": [
    "## Exporting dataset"
   ]
  },
  {
   "cell_type": "code",
   "execution_count": 16,
   "id": "35226d0d-6fa2-4721-955c-30392f5ceb45",
   "metadata": {},
   "outputs": [
    {
     "name": "stdout",
     "output_type": "stream",
     "text": [
      "{'HF/6-31G*': QCSpec(method='hf', basis='6-31G*', program='psi4', spec_name='HF/6-31G*', spec_description='The standard HF/6-31G* basis used to derive RESP style charges.', store_wavefunction=<WavefunctionProtocolEnum.orbitals_and_eigenvalues: 'orbitals_and_eigenvalues'>, implicit_solvent=None, maxiter=200, scf_properties=[<SCFProperties.Dipole: 'dipole'>, <SCFProperties.Quadrupole: 'quadrupole'>, <SCFProperties.WibergLowdinIndices: 'wiberg_lowdin_indices'>, <SCFProperties.MayerIndices: 'mayer_indices'>], keywords={})}\n"
     ]
    }
   ],
   "source": [
    "dataset.export_dataset(\"dataset.json.bz2\")\n",
    "dataset.molecules_to_file('dataset.smi', 'smi')\n",
    "dataset.visualize(\"dataset.pdf\", columns=8)\n",
    "\n",
    "print(dataset.qc_specifications)"
   ]
  },
  {
   "cell_type": "markdown",
   "id": "001513e5-998b-41cb-8de1-e09f0c5b79d9",
   "metadata": {},
   "source": [
    "## Dataset information"
   ]
  },
  {
   "cell_type": "code",
   "execution_count": 17,
   "id": "80afccf6-327f-45db-aa7f-837c6906c9bb",
   "metadata": {},
   "outputs": [],
   "source": [
    "import numpy as np\n",
    "from collections import Counter"
   ]
  },
  {
   "cell_type": "code",
   "execution_count": 18,
   "id": "b0e72e5e-6861-43a4-aa43-d9f8841689e7",
   "metadata": {},
   "outputs": [
    {
     "name": "stdout",
     "output_type": "stream",
     "text": [
      "n_molecules: 610\n",
      "n_conformers: 650\n"
     ]
    }
   ],
   "source": [
    "print(\"n_molecules:\", dataset.n_molecules)\n",
    "print(\"n_conformers:\", dataset.n_records)"
   ]
  },
  {
   "cell_type": "code",
   "execution_count": 19,
   "id": "d62fc972-1725-4a11-8d87-e7cc1afe52a0",
   "metadata": {},
   "outputs": [],
   "source": [
    "n_confs = np.array(\n",
    "    [mol.n_conformers for mol in dataset.molecules]\n",
    ")\n",
    "n_heavy_atoms = np.array(\n",
    "    [mol.to_rdkit().GetNumHeavyAtoms() for mol in dataset.molecules]\n",
    ")"
   ]
  },
  {
   "cell_type": "code",
   "execution_count": 20,
   "id": "c4d85be7-c795-4c3e-9896-888407e5c60f",
   "metadata": {},
   "outputs": [
    {
     "name": "stdout",
     "output_type": "stream",
     "text": [
      "Number of conformers (min, mean, max): 1 1.0655737704918034 4\n",
      "# heavy atoms\n",
      "  4: 1\n",
      "  5: 8\n",
      "  6: 10\n",
      "  7: 17\n",
      "  8: 31\n",
      "  9: 81\n",
      " 10: 121\n",
      " 11: 171\n",
      " 12: 170\n"
     ]
    }
   ],
   "source": [
    "print(\n",
    "    \"Number of conformers (min, mean, max):\",\n",
    "    n_confs.min(), n_confs.mean(), n_confs.max()\n",
    ")\n",
    "print(\"# heavy atoms\")\n",
    "counts = Counter(n_heavy_atoms)\n",
    "for n_heavy in sorted(counts):\n",
    "    print(f\"{str(n_heavy):>3}: {counts[n_heavy]}\")"
   ]
  },
  {
   "cell_type": "code",
   "execution_count": 22,
   "id": "e70d0666-c0da-4f62-844f-eb8e0151f73d",
   "metadata": {},
   "outputs": [
    {
     "data": {
      "text/plain": [
       "{-2.0, -1.0, 0.0, 1.0, 2.0}"
      ]
     },
     "execution_count": 22,
     "metadata": {},
     "output_type": "execute_result"
    }
   ],
   "source": [
    "from openff.units import unit\n",
    "unique_charges = set([\n",
    "    mol.total_charge.m_as(unit.elementary_charge)\n",
    "    for mol in dataset.molecules\n",
    "])\n",
    "unique_charges"
   ]
  },
  {
   "cell_type": "code",
   "execution_count": 23,
   "id": "a3805ab5-ce20-4710-8e8d-0c37c283ddf1",
   "metadata": {},
   "outputs": [
    {
     "name": "stdout",
     "output_type": "stream",
     "text": [
      "MW (min, mean, max): 201.84508399999999 292.1294328785246 466.5868909999999\n"
     ]
    }
   ],
   "source": [
    "masses = np.array([\n",
    "    sum([atom.mass.m for atom in mol.atoms])\n",
    "    for mol in dataset.molecules\n",
    "])\n",
    "print(\"MW (min, mean, max):\", masses.min(), masses.mean(), masses.max())"
   ]
  },
  {
   "cell_type": "code",
   "execution_count": 24,
   "id": "40e7d2b7-99d8-481c-a763-3a22b49c3084",
   "metadata": {},
   "outputs": [
    {
     "name": "stdout",
     "output_type": "stream",
     "text": [
      "{'O', 'S', 'C', 'F', 'P', 'H', 'Br', 'N'}\n"
     ]
    }
   ],
   "source": [
    "elements = set(\n",
    "    atom.symbol\n",
    "    for mol in dataset.molecules\n",
    "    for atom in mol.atoms\n",
    ")\n",
    "print(elements)"
   ]
  },
  {
   "cell_type": "code",
   "execution_count": null,
   "id": "12281cb2-35b3-475b-bdc9-8e500d59d6a3",
   "metadata": {},
   "outputs": [],
   "source": []
  }
 ],
 "metadata": {
  "kernelspec": {
   "display_name": "Python (qcsubmit-050)",
   "language": "python",
   "name": "qcsubmit-050"
  },
  "language_info": {
   "codemirror_mode": {
    "name": "ipython",
    "version": 3
   },
   "file_extension": ".py",
   "mimetype": "text/x-python",
   "name": "python",
   "nbconvert_exporter": "python",
   "pygments_lexer": "ipython3",
   "version": "3.11.6"
  }
 },
 "nbformat": 4,
 "nbformat_minor": 5
}
