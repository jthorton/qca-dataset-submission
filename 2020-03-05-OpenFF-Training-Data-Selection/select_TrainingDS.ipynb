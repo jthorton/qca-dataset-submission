version https://git-lfs.github.com/spec/v1
oid sha256:f10ea8c3d90c1dd841db46cfe50a2a833ef5e9b43822d1ebee8e3c3bfffd93f2
size 19002454
