{
 "cells": [
  {
   "cell_type": "code",
   "execution_count": 171,
   "metadata": {},
   "outputs": [],
   "source": [
    "import time\n",
    "import pprint\n",
    "import re\n",
    "import numpy as np\n",
    "\n",
    "from openeye import oechem\n",
    "from openeye import oeomega\n",
    "import qcportal as ptl"
   ]
  },
  {
   "cell_type": "markdown",
   "metadata": {},
   "source": [
    "# Conforming molecules"
   ]
  },
  {
   "cell_type": "code",
   "execution_count": 172,
   "metadata": {},
   "outputs": [],
   "source": [
    "# Custom exception for the case when there is no nitrogen\n",
    "class NoNitrogenException(Exception): pass\n",
    "\n",
    "def find_nitrogen(mol):\n",
    "    \"\"\"Returns the trivalent nitrogen atom in a molecule\"\"\"\n",
    "    for atom in mol.GetAtoms():\n",
    "        if oechem.OEIsInvertibleNitrogen()(atom):\n",
    "            return atom, atom.GetIdx()\n",
    "    raise NoNitrogenException()"
   ]
  },
  {
   "cell_type": "code",
   "execution_count": 173,
   "metadata": {},
   "outputs": [],
   "source": [
    "# Initialize Omega\n",
    "omega = oeomega.OEOmega()\n",
    "\n",
    "omega.SetMaxConfs(1)\n",
    "omega.SetIncludeInput(True)\n",
    "omega.SetCanonOrder(True)\n",
    "omega.SetSampleHydrogens(True)  # Word to the wise: skipping this step can lead to significantly different charges!\n",
    "omega.SetStrictStereo(True)\n",
    "omega.SetStrictAtomTypes(True)\n",
    "omega.SetIncludeInput(False) # don't include input"
   ]
  },
  {
   "cell_type": "markdown",
   "metadata": {},
   "source": [
    "# QM Calculations"
   ]
  },
  {
   "cell_type": "code",
   "execution_count": 174,
   "metadata": {},
   "outputs": [
    {
     "name": "stdout",
     "output_type": "stream",
     "text": [
      "FractalClient(server_name='QCFractal Server', address='https://localhost:7777/', username='None')\n"
     ]
    }
   ],
   "source": [
    "client = ptl.FractalClient(\"https://localhost:7777/\", verify=False)\n",
    "print(client)"
   ]
  },
  {
   "cell_type": "code",
   "execution_count": 175,
   "metadata": {},
   "outputs": [],
   "source": [
    "def make_ptl_mol(oemol):\n",
    "    \"\"\"Builds a QCPortal Molecule from an OpenEye molecule\"\"\"\n",
    "    coords = oemol.GetCoords()\n",
    "    coord_str = '\\n'.join(\n",
    "        (f\"{oechem.OEGetAtomicSymbol(atom.GetAtomicNum())}   \"\n",
    "                   f\"{'   '.join(str(c) for c in coords[atom.GetIdx()])}\")\n",
    "                  for atom in mol.GetAtoms())\n",
    "    print(coord_str)\n",
    "    conn = np.array([[bond.GetBgnIdx(), bond.GetEndIdx(), bond.GetOrder()] for bond \n",
    "            in mol.GetBonds()])\n",
    "    return ptl.Molecule.from_data(coord_str, connectivity=conn)"
   ]
  },
  {
   "cell_type": "code",
   "execution_count": 178,
   "metadata": {},
   "outputs": [],
   "source": [
    "def send_qm_job(ptl_mol, nitrogen, nitrogen_i):\n",
    "    \"\"\"Sends a job to the QM Client - returns a submitted object\"\"\"\n",
    "    indices = [nitrogen_i] + [nbor.GetIdx() for nbor in list(nitrogen.GetAtoms())]\n",
    "    print(f\"indices: {indices}\")\n",
    "    keywords = ptl.models.KeywordSet(values={\"scf_properties\":[\"wiberg_lowdin_indices\"]})\n",
    "    keywords_id = client.add_keywords([keywords])[0]\n",
    "    service = ptl.models.GridOptimizationInput(**{\n",
    "            \"keywords\": {\n",
    "                \"preoptimization\": True,\n",
    "                \"scans\": [{\n",
    "                    \"type\": \"dihedral\",\n",
    "                    \"indices\": indices,\n",
    "                    \"steps\": [-40, -36, -32, -28, -24, -20, -16, -12, -8, -4, 0, 4, 8, 12, 16, 20, 24, 28, 32, 36, 40],\n",
    "                    \"step_type\": \"absolute\"\n",
    "                }]\n",
    "            },\n",
    "            \"optimization_spec\": {\n",
    "                \"program\": \"geometric\",\n",
    "                \"keywords\": {\n",
    "                    \"coordsys\": \"tric\",\n",
    "                }\n",
    "            },\n",
    "            \"qc_spec\": {\n",
    "                \"driver\": \"gradient\",\n",
    "                \"method\": \"mp2\",\n",
    "                \"basis\": \"def2-SV(P)\",\n",
    "                \"keywords\": keywords_id,\n",
    "                \"program\": \"psi4\",\n",
    "                \n",
    "#                 \"driver\": \"gradient\",\n",
    "#                 \"method\": \"UFF\",\n",
    "#                 \"basis\": None,\n",
    "#                 \"keywords\": None,\n",
    "#                 \"program\": \"rdkit\",\n",
    "            },\n",
    "            \"initial_molecule\": ptl_mol,\n",
    "        })\n",
    "    submitted = client.add_service([service])\n",
    "    print(\"Job submitted\")\n",
    "    return submitted"
   ]
  },
  {
   "cell_type": "markdown",
   "metadata": {},
   "source": [
    "# Final Run"
   ]
  },
  {
   "cell_type": "code",
   "execution_count": 179,
   "metadata": {},
   "outputs": [
    {
     "name": "stdout",
     "output_type": "stream",
     "text": [
      "Nitrogen found at index 2\n",
      "Generating conformer: done\n",
      "Nitrogen is at: (1.0301599502563477, 0.2824336886405945, 1.800162672996521)\n",
      "C   1.0277451276779175   0.13483351469039917   0.3510288894176483\n",
      "C   2.385664463043213   0.4585181176662445   2.3034117221832275\n",
      "N   1.0301599502563477   0.2824336886405945   1.800162672996521\n",
      "H   1.6256577968597412   -0.7329955101013184   0.06077375262975693\n",
      "H   1.449762225151062   1.026540994644165   -0.12041513621807098\n",
      "H   0.006210207939147949   -0.003914475440979004   -0.013064242899417877\n",
      "H   3.0003867149353027   -0.4053081274032593   2.037337064743042\n",
      "H   2.374415874481201   0.5605388283729553   3.3919730186462402\n",
      "H   2.835350751876831   1.3567941188812256   1.8718671798706055\n",
      "H   0.4692816138267517   1.0947539806365967   2.0555851459503174\n",
      "indices: [2, 9, 0, 1]\n",
      "Job submitted\n",
      "\n",
      "[ { 'molecule': <oechem.OEMol; proxy of <Swig Object of type 'OEMolWrapper *' at 0x1234acdb0> >,\n",
      "    'nitrogen': <oechem.OEAtomBase; proxy of <Swig Object of type 'OEChem::OEAtomBase *' at 0x1238b2870> >,\n",
      "    'nitrogen_i': 2,\n",
      "    'ptl_molecule': <Molecule(name='C2H7N' formula='C2H7N' hash='8629b41')>,\n",
      "    'submitted': <ComputeResponse(nsubmitted=0 nexisting=1)>}]\n"
     ]
    }
   ],
   "source": [
    "#This is where we submit the job. \n",
    "#The molecule we ran this example with stored as a smile string in the tiny.smi file. \n",
    "#This should be adapted for the directory \"Molecules_to_run\" for the .sdf files\n",
    "\n",
    "tmp_mol = oechem.OEMol()\n",
    "ifs = oechem.oemolistream(\"tiny.smi\")\n",
    "first = True\n",
    "\n",
    "results = [] # {\"molecule\": <OEMol>, \"nitrogen\": <OEAtom>, \"nitrogen_i\": <int>,\n",
    "             #  \"ptl_molecule\": <PtlMol>, submitted\": <submitted object>,\n",
    "             #  \"res\": <result object> from QCPortal}\n",
    "\n",
    "while oechem.OEReadMolecule(ifs, tmp_mol):\n",
    "    # Separate outputs by a line\n",
    "    if first: first = False\n",
    "    else: print()\n",
    "    \n",
    "    mol = oechem.OEMol(tmp_mol)\n",
    "    status = omega(mol)\n",
    "    nitrogen, nitrogen_i = find_nitrogen(mol)\n",
    "    print(f\"Nitrogen found at index {nitrogen_i}\")\n",
    "    print(f\"Generating conformer: {'done' if status else 'failed'}\")\n",
    "    \n",
    "    print(f\"Nitrogen is at: {mol.GetCoords()[nitrogen_i]}\")\n",
    "    \n",
    "    ptl_mol = make_ptl_mol(mol)\n",
    "    sub = send_qm_job(ptl_mol, nitrogen, nitrogen_i)\n",
    "    \n",
    "    results.append({\n",
    "        \"molecule\": mol,\n",
    "        \"nitrogen\": nitrogen,\n",
    "        \"nitrogen_i\": nitrogen_i,\n",
    "        \"ptl_molecule\": ptl_mol,\n",
    "        \"submitted\": sub,\n",
    "    })\n",
    "    break\n",
    "\n",
    "print()\n",
    "pprint.PrettyPrinter(indent = 2).pprint(results)"
   ]
  },
  {
   "cell_type": "code",
   "execution_count": 180,
   "metadata": {},
   "outputs": [
    {
     "name": "stdout",
     "output_type": "stream",
     "text": [
      "Running check\n",
      "0 : GridOptimizationRecord(id='5d0402af45144f1df5c9b558' status='COMPLETE')\n",
      "Calculation 0 finished\n"
     ]
    }
   ],
   "source": [
    "# Query for an update on the jobs every 5 seconds\n",
    "total_jobs = len(results)\n",
    "completed = 0\n",
    "while completed != total_jobs:\n",
    "    print(\"Running check\")\n",
    "    for i in range(total_jobs):\n",
    "        if \"res\" in results[i]: continue # if \"res\" has already been set then the job has already finished\n",
    "        res = client.query_procedures(id=results[i][\"submitted\"].ids)[0]\n",
    "        \n",
    "        print(i, \":\", res)\n",
    "        \n",
    "        # this is a very sketchy way for checking if the job is done - find a better way!\n",
    "        if str(res.status) != \"RecordStatusEnum.incomplete\":\n",
    "            print(f\"Calculation {i} finished\")\n",
    "            results[i][\"res\"] = res\n",
    "            completed += 1\n",
    "    time.sleep(5)"
   ]
  },
  {
   "cell_type": "code",
   "execution_count": 181,
   "metadata": {},
   "outputs": [
    {
     "name": "stdout",
     "output_type": "stream",
     "text": [
      "[ { 'molecule': <oechem.OEMol; proxy of <Swig Object of type 'OEMolWrapper *' at 0x1234acdb0> >,\n",
      "    'nitrogen': <oechem.OEAtomBase; proxy of <Swig Object of type 'OEChem::OEAtomBase *' at 0x1238b2870> >,\n",
      "    'nitrogen_i': 2,\n",
      "    'ptl_molecule': <Molecule(name='C2H7N' formula='C2H7N' hash='8629b41')>,\n",
      "    'res': <GridOptimizationRecord(id='5d0402af45144f1df5c9b558' status='COMPLETE')>,\n",
      "    'submitted': <ComputeResponse(nsubmitted=0 nexisting=1)>}]\n"
     ]
    }
   ],
   "source": [
    "# Print final results\n",
    "pprint.PrettyPrinter(indent = 2).pprint(results)"
   ]
  },
  {
   "cell_type": "code",
   "execution_count": 183,
   "metadata": {},
   "outputs": [],
   "source": [
    "#gridopt = client.query_procedures({\"id\": results[0]['res']})[0]\n",
    "gridopt = client.query_procedures(id= results[0]['res'].id)[0]\n"
   ]
  }
 ],
 "metadata": {
  "kernelspec": {
   "display_name": "Python 3",
   "language": "python",
   "name": "python3"
  },
  "language_info": {
   "codemirror_mode": {
    "name": "ipython",
    "version": 3
   },
   "file_extension": ".py",
   "mimetype": "text/x-python",
   "name": "python",
   "nbconvert_exporter": "python",
   "pygments_lexer": "ipython3",
   "version": "3.6.7"
  }
 },
 "nbformat": 4,
 "nbformat_minor": 2
}
